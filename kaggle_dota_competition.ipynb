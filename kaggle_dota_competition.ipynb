{
 "cells": [
  {
   "cell_type": "markdown",
   "id": "d2a5464f",
   "metadata": {},
   "source": [
    "### Лучший скор : 0.8075426522982592"
   ]
  },
  {
   "cell_type": "code",
   "execution_count": 152,
   "id": "2574ed92",
   "metadata": {},
   "outputs": [],
   "source": [
    "import os\n",
    "import json\n",
    "import pandas as pd\n",
    "import datetime\n",
    "import warnings\n",
    "import seaborn as sns\n",
    "import re\n",
    "import matplotlib.pyplot as plt\n",
    "from sklearn.model_selection import train_test_split, ShuffleSplit, cross_val_score\n",
    "from sklearn.ensemble import RandomForestClassifier\n",
    "from sklearn.metrics import roc_auc_score, accuracy_score\n",
    "from sklearn.model_selection import GridSearchCV\n",
    "from sklearn.linear_model import (LogisticRegression , LogisticRegressionCV)\n",
    "from sklearn.neighbors import KNeighborsClassifier\n",
    "from sklearn.tree import DecisionTreeClassifier\n",
    "%matplotlib inline"
   ]
  },
  {
   "cell_type": "code",
   "execution_count": 2,
   "id": "0b69ba46",
   "metadata": {},
   "outputs": [],
   "source": [
    "sns.set_style(style=\"whitegrid\")\n",
    "plt.rcParams[\"figure.figsize\"] = 12, 8\n",
    "warnings.filterwarnings(\"ignore\")"
   ]
  },
  {
   "cell_type": "markdown",
   "id": "b2fe3245",
   "metadata": {},
   "source": [
    "### Загрузим данные"
   ]
  },
  {
   "cell_type": "code",
   "execution_count": 3,
   "id": "b4ba909c",
   "metadata": {},
   "outputs": [],
   "source": [
    "PATH_TO_DATA = \"data\"\n",
    "\n",
    "df_train_features = pd.read_csv(os.path.join(PATH_TO_DATA, \n",
    "                                             \"train_data.csv\"), \n",
    "                                    index_col=\"match_id_hash\")\n",
    "df_train_targets = pd.read_csv(os.path.join(PATH_TO_DATA, \n",
    "                                            \"train_targets.csv\"), \n",
    "                                   index_col=\"match_id_hash\")"
   ]
  },
  {
   "cell_type": "markdown",
   "id": "991e8503",
   "metadata": {},
   "source": [
    "### Посмотрим, как выглядят наши данные"
   ]
  },
  {
   "cell_type": "code",
   "execution_count": 4,
   "id": "6f698e0f",
   "metadata": {},
   "outputs": [
    {
     "data": {
      "text/plain": [
       "(31698, 245)"
      ]
     },
     "execution_count": 4,
     "metadata": {},
     "output_type": "execute_result"
    }
   ],
   "source": [
    "df_train_features.shape"
   ]
  },
  {
   "cell_type": "code",
   "execution_count": 5,
   "id": "8363c795",
   "metadata": {},
   "outputs": [
    {
     "data": {
      "text/html": [
       "<div>\n",
       "<style scoped>\n",
       "    .dataframe tbody tr th:only-of-type {\n",
       "        vertical-align: middle;\n",
       "    }\n",
       "\n",
       "    .dataframe tbody tr th {\n",
       "        vertical-align: top;\n",
       "    }\n",
       "\n",
       "    .dataframe thead th {\n",
       "        text-align: right;\n",
       "    }\n",
       "</style>\n",
       "<table border=\"1\" class=\"dataframe\">\n",
       "  <thead>\n",
       "    <tr style=\"text-align: right;\">\n",
       "      <th></th>\n",
       "      <th>game_time</th>\n",
       "      <th>game_mode</th>\n",
       "      <th>lobby_type</th>\n",
       "      <th>objectives_len</th>\n",
       "      <th>chat_len</th>\n",
       "      <th>r1_hero_id</th>\n",
       "      <th>r1_kills</th>\n",
       "      <th>r1_deaths</th>\n",
       "      <th>r1_assists</th>\n",
       "      <th>r1_denies</th>\n",
       "      <th>...</th>\n",
       "      <th>d5_stuns</th>\n",
       "      <th>d5_creeps_stacked</th>\n",
       "      <th>d5_camps_stacked</th>\n",
       "      <th>d5_rune_pickups</th>\n",
       "      <th>d5_firstblood_claimed</th>\n",
       "      <th>d5_teamfight_participation</th>\n",
       "      <th>d5_towers_killed</th>\n",
       "      <th>d5_roshans_killed</th>\n",
       "      <th>d5_obs_placed</th>\n",
       "      <th>d5_sen_placed</th>\n",
       "    </tr>\n",
       "    <tr>\n",
       "      <th>match_id_hash</th>\n",
       "      <th></th>\n",
       "      <th></th>\n",
       "      <th></th>\n",
       "      <th></th>\n",
       "      <th></th>\n",
       "      <th></th>\n",
       "      <th></th>\n",
       "      <th></th>\n",
       "      <th></th>\n",
       "      <th></th>\n",
       "      <th></th>\n",
       "      <th></th>\n",
       "      <th></th>\n",
       "      <th></th>\n",
       "      <th></th>\n",
       "      <th></th>\n",
       "      <th></th>\n",
       "      <th></th>\n",
       "      <th></th>\n",
       "      <th></th>\n",
       "      <th></th>\n",
       "    </tr>\n",
       "  </thead>\n",
       "  <tbody>\n",
       "    <tr>\n",
       "      <th>b9c57c450ce74a2af79c9ce96fac144d</th>\n",
       "      <td>658</td>\n",
       "      <td>4</td>\n",
       "      <td>0</td>\n",
       "      <td>3</td>\n",
       "      <td>10</td>\n",
       "      <td>15</td>\n",
       "      <td>7</td>\n",
       "      <td>2</td>\n",
       "      <td>0</td>\n",
       "      <td>7</td>\n",
       "      <td>...</td>\n",
       "      <td>0.000000</td>\n",
       "      <td>0</td>\n",
       "      <td>0</td>\n",
       "      <td>0</td>\n",
       "      <td>0</td>\n",
       "      <td>0.00</td>\n",
       "      <td>0</td>\n",
       "      <td>0</td>\n",
       "      <td>0</td>\n",
       "      <td>0</td>\n",
       "    </tr>\n",
       "    <tr>\n",
       "      <th>6db558535151ea18ca70a6892197db41</th>\n",
       "      <td>21</td>\n",
       "      <td>23</td>\n",
       "      <td>0</td>\n",
       "      <td>0</td>\n",
       "      <td>0</td>\n",
       "      <td>101</td>\n",
       "      <td>0</td>\n",
       "      <td>0</td>\n",
       "      <td>0</td>\n",
       "      <td>0</td>\n",
       "      <td>...</td>\n",
       "      <td>0.000000</td>\n",
       "      <td>0</td>\n",
       "      <td>0</td>\n",
       "      <td>0</td>\n",
       "      <td>0</td>\n",
       "      <td>0.00</td>\n",
       "      <td>0</td>\n",
       "      <td>0</td>\n",
       "      <td>0</td>\n",
       "      <td>0</td>\n",
       "    </tr>\n",
       "    <tr>\n",
       "      <th>19c39fe2af2b547e48708ca005c6ae74</th>\n",
       "      <td>160</td>\n",
       "      <td>22</td>\n",
       "      <td>7</td>\n",
       "      <td>0</td>\n",
       "      <td>0</td>\n",
       "      <td>57</td>\n",
       "      <td>0</td>\n",
       "      <td>0</td>\n",
       "      <td>0</td>\n",
       "      <td>1</td>\n",
       "      <td>...</td>\n",
       "      <td>0.000000</td>\n",
       "      <td>0</td>\n",
       "      <td>0</td>\n",
       "      <td>0</td>\n",
       "      <td>0</td>\n",
       "      <td>0.00</td>\n",
       "      <td>0</td>\n",
       "      <td>0</td>\n",
       "      <td>0</td>\n",
       "      <td>0</td>\n",
       "    </tr>\n",
       "    <tr>\n",
       "      <th>c96d629dc0c39f0c616d1949938a6ba6</th>\n",
       "      <td>1016</td>\n",
       "      <td>22</td>\n",
       "      <td>0</td>\n",
       "      <td>1</td>\n",
       "      <td>0</td>\n",
       "      <td>119</td>\n",
       "      <td>0</td>\n",
       "      <td>3</td>\n",
       "      <td>3</td>\n",
       "      <td>5</td>\n",
       "      <td>...</td>\n",
       "      <td>8.264696</td>\n",
       "      <td>0</td>\n",
       "      <td>0</td>\n",
       "      <td>3</td>\n",
       "      <td>0</td>\n",
       "      <td>0.25</td>\n",
       "      <td>0</td>\n",
       "      <td>0</td>\n",
       "      <td>3</td>\n",
       "      <td>0</td>\n",
       "    </tr>\n",
       "    <tr>\n",
       "      <th>156c88bff4e9c4668b0f53df3d870f1b</th>\n",
       "      <td>582</td>\n",
       "      <td>22</td>\n",
       "      <td>7</td>\n",
       "      <td>2</td>\n",
       "      <td>2</td>\n",
       "      <td>12</td>\n",
       "      <td>3</td>\n",
       "      <td>1</td>\n",
       "      <td>2</td>\n",
       "      <td>9</td>\n",
       "      <td>...</td>\n",
       "      <td>15.762911</td>\n",
       "      <td>3</td>\n",
       "      <td>1</td>\n",
       "      <td>0</td>\n",
       "      <td>1</td>\n",
       "      <td>0.50</td>\n",
       "      <td>0</td>\n",
       "      <td>0</td>\n",
       "      <td>3</td>\n",
       "      <td>0</td>\n",
       "    </tr>\n",
       "  </tbody>\n",
       "</table>\n",
       "<p>5 rows × 245 columns</p>\n",
       "</div>"
      ],
      "text/plain": [
       "                                  game_time  game_mode  lobby_type  \\\n",
       "match_id_hash                                                        \n",
       "b9c57c450ce74a2af79c9ce96fac144d        658          4           0   \n",
       "6db558535151ea18ca70a6892197db41         21         23           0   \n",
       "19c39fe2af2b547e48708ca005c6ae74        160         22           7   \n",
       "c96d629dc0c39f0c616d1949938a6ba6       1016         22           0   \n",
       "156c88bff4e9c4668b0f53df3d870f1b        582         22           7   \n",
       "\n",
       "                                  objectives_len  chat_len  r1_hero_id  \\\n",
       "match_id_hash                                                            \n",
       "b9c57c450ce74a2af79c9ce96fac144d               3        10          15   \n",
       "6db558535151ea18ca70a6892197db41               0         0         101   \n",
       "19c39fe2af2b547e48708ca005c6ae74               0         0          57   \n",
       "c96d629dc0c39f0c616d1949938a6ba6               1         0         119   \n",
       "156c88bff4e9c4668b0f53df3d870f1b               2         2          12   \n",
       "\n",
       "                                  r1_kills  r1_deaths  r1_assists  r1_denies  \\\n",
       "match_id_hash                                                                  \n",
       "b9c57c450ce74a2af79c9ce96fac144d         7          2           0          7   \n",
       "6db558535151ea18ca70a6892197db41         0          0           0          0   \n",
       "19c39fe2af2b547e48708ca005c6ae74         0          0           0          1   \n",
       "c96d629dc0c39f0c616d1949938a6ba6         0          3           3          5   \n",
       "156c88bff4e9c4668b0f53df3d870f1b         3          1           2          9   \n",
       "\n",
       "                                  ...   d5_stuns  d5_creeps_stacked  \\\n",
       "match_id_hash                     ...                                 \n",
       "b9c57c450ce74a2af79c9ce96fac144d  ...   0.000000                  0   \n",
       "6db558535151ea18ca70a6892197db41  ...   0.000000                  0   \n",
       "19c39fe2af2b547e48708ca005c6ae74  ...   0.000000                  0   \n",
       "c96d629dc0c39f0c616d1949938a6ba6  ...   8.264696                  0   \n",
       "156c88bff4e9c4668b0f53df3d870f1b  ...  15.762911                  3   \n",
       "\n",
       "                                  d5_camps_stacked  d5_rune_pickups  \\\n",
       "match_id_hash                                                         \n",
       "b9c57c450ce74a2af79c9ce96fac144d                 0                0   \n",
       "6db558535151ea18ca70a6892197db41                 0                0   \n",
       "19c39fe2af2b547e48708ca005c6ae74                 0                0   \n",
       "c96d629dc0c39f0c616d1949938a6ba6                 0                3   \n",
       "156c88bff4e9c4668b0f53df3d870f1b                 1                0   \n",
       "\n",
       "                                  d5_firstblood_claimed  \\\n",
       "match_id_hash                                             \n",
       "b9c57c450ce74a2af79c9ce96fac144d                      0   \n",
       "6db558535151ea18ca70a6892197db41                      0   \n",
       "19c39fe2af2b547e48708ca005c6ae74                      0   \n",
       "c96d629dc0c39f0c616d1949938a6ba6                      0   \n",
       "156c88bff4e9c4668b0f53df3d870f1b                      1   \n",
       "\n",
       "                                  d5_teamfight_participation  \\\n",
       "match_id_hash                                                  \n",
       "b9c57c450ce74a2af79c9ce96fac144d                        0.00   \n",
       "6db558535151ea18ca70a6892197db41                        0.00   \n",
       "19c39fe2af2b547e48708ca005c6ae74                        0.00   \n",
       "c96d629dc0c39f0c616d1949938a6ba6                        0.25   \n",
       "156c88bff4e9c4668b0f53df3d870f1b                        0.50   \n",
       "\n",
       "                                  d5_towers_killed  d5_roshans_killed  \\\n",
       "match_id_hash                                                           \n",
       "b9c57c450ce74a2af79c9ce96fac144d                 0                  0   \n",
       "6db558535151ea18ca70a6892197db41                 0                  0   \n",
       "19c39fe2af2b547e48708ca005c6ae74                 0                  0   \n",
       "c96d629dc0c39f0c616d1949938a6ba6                 0                  0   \n",
       "156c88bff4e9c4668b0f53df3d870f1b                 0                  0   \n",
       "\n",
       "                                  d5_obs_placed  d5_sen_placed  \n",
       "match_id_hash                                                   \n",
       "b9c57c450ce74a2af79c9ce96fac144d              0              0  \n",
       "6db558535151ea18ca70a6892197db41              0              0  \n",
       "19c39fe2af2b547e48708ca005c6ae74              0              0  \n",
       "c96d629dc0c39f0c616d1949938a6ba6              3              0  \n",
       "156c88bff4e9c4668b0f53df3d870f1b              3              0  \n",
       "\n",
       "[5 rows x 245 columns]"
      ]
     },
     "execution_count": 5,
     "metadata": {},
     "output_type": "execute_result"
    }
   ],
   "source": [
    "df_train_features.head()"
   ]
  },
  {
   "cell_type": "code",
   "execution_count": 6,
   "id": "56274ffc",
   "metadata": {},
   "outputs": [
    {
     "data": {
      "text/html": [
       "<div>\n",
       "<style scoped>\n",
       "    .dataframe tbody tr th:only-of-type {\n",
       "        vertical-align: middle;\n",
       "    }\n",
       "\n",
       "    .dataframe tbody tr th {\n",
       "        vertical-align: top;\n",
       "    }\n",
       "\n",
       "    .dataframe thead th {\n",
       "        text-align: right;\n",
       "    }\n",
       "</style>\n",
       "<table border=\"1\" class=\"dataframe\">\n",
       "  <thead>\n",
       "    <tr style=\"text-align: right;\">\n",
       "      <th></th>\n",
       "      <th>game_time</th>\n",
       "      <th>radiant_win</th>\n",
       "      <th>duration</th>\n",
       "      <th>time_remaining</th>\n",
       "      <th>next_roshan_team</th>\n",
       "    </tr>\n",
       "    <tr>\n",
       "      <th>match_id_hash</th>\n",
       "      <th></th>\n",
       "      <th></th>\n",
       "      <th></th>\n",
       "      <th></th>\n",
       "      <th></th>\n",
       "    </tr>\n",
       "  </thead>\n",
       "  <tbody>\n",
       "    <tr>\n",
       "      <th>b9c57c450ce74a2af79c9ce96fac144d</th>\n",
       "      <td>658</td>\n",
       "      <td>True</td>\n",
       "      <td>1154</td>\n",
       "      <td>496</td>\n",
       "      <td>NaN</td>\n",
       "    </tr>\n",
       "    <tr>\n",
       "      <th>6db558535151ea18ca70a6892197db41</th>\n",
       "      <td>21</td>\n",
       "      <td>True</td>\n",
       "      <td>1503</td>\n",
       "      <td>1482</td>\n",
       "      <td>Radiant</td>\n",
       "    </tr>\n",
       "    <tr>\n",
       "      <th>19c39fe2af2b547e48708ca005c6ae74</th>\n",
       "      <td>160</td>\n",
       "      <td>False</td>\n",
       "      <td>2063</td>\n",
       "      <td>1903</td>\n",
       "      <td>NaN</td>\n",
       "    </tr>\n",
       "    <tr>\n",
       "      <th>c96d629dc0c39f0c616d1949938a6ba6</th>\n",
       "      <td>1016</td>\n",
       "      <td>True</td>\n",
       "      <td>2147</td>\n",
       "      <td>1131</td>\n",
       "      <td>Radiant</td>\n",
       "    </tr>\n",
       "    <tr>\n",
       "      <th>156c88bff4e9c4668b0f53df3d870f1b</th>\n",
       "      <td>582</td>\n",
       "      <td>False</td>\n",
       "      <td>1927</td>\n",
       "      <td>1345</td>\n",
       "      <td>Dire</td>\n",
       "    </tr>\n",
       "  </tbody>\n",
       "</table>\n",
       "</div>"
      ],
      "text/plain": [
       "                                  game_time  radiant_win  duration  \\\n",
       "match_id_hash                                                        \n",
       "b9c57c450ce74a2af79c9ce96fac144d        658         True      1154   \n",
       "6db558535151ea18ca70a6892197db41         21         True      1503   \n",
       "19c39fe2af2b547e48708ca005c6ae74        160        False      2063   \n",
       "c96d629dc0c39f0c616d1949938a6ba6       1016         True      2147   \n",
       "156c88bff4e9c4668b0f53df3d870f1b        582        False      1927   \n",
       "\n",
       "                                  time_remaining next_roshan_team  \n",
       "match_id_hash                                                      \n",
       "b9c57c450ce74a2af79c9ce96fac144d             496              NaN  \n",
       "6db558535151ea18ca70a6892197db41            1482          Radiant  \n",
       "19c39fe2af2b547e48708ca005c6ae74            1903              NaN  \n",
       "c96d629dc0c39f0c616d1949938a6ba6            1131          Radiant  \n",
       "156c88bff4e9c4668b0f53df3d870f1b            1345             Dire  "
      ]
     },
     "execution_count": 6,
     "metadata": {},
     "output_type": "execute_result"
    }
   ],
   "source": [
    "df_train_targets.head()"
   ]
  },
  {
   "cell_type": "markdown",
   "id": "172c7975",
   "metadata": {},
   "source": [
    "Какие именно признаки у нас есть в наших данных"
   ]
  },
  {
   "cell_type": "code",
   "execution_count": 112,
   "id": "cbbb1979",
   "metadata": {},
   "outputs": [
    {
     "name": "stdout",
     "output_type": "stream",
     "text": [
      "game_time\n",
      "game_mode\n",
      "lobby_type\n",
      "objectives_len\n",
      "chat_len\n",
      "r1_hero_id\n",
      "r1_kills\n",
      "r1_deaths\n",
      "r1_assists\n",
      "r1_denies\n",
      "r1_gold\n",
      "r1_lh\n",
      "r1_xp\n",
      "r1_health\n",
      "r1_max_health\n",
      "r1_max_mana\n",
      "r1_level\n",
      "r1_x\n",
      "r1_y\n",
      "r1_stuns\n",
      "r1_creeps_stacked\n",
      "r1_camps_stacked\n",
      "r1_rune_pickups\n",
      "r1_firstblood_claimed\n",
      "r1_teamfight_participation\n",
      "r1_towers_killed\n",
      "r1_roshans_killed\n",
      "r1_obs_placed\n",
      "r1_sen_placed\n",
      "r2_hero_id\n",
      "r2_kills\n",
      "r2_deaths\n",
      "r2_assists\n",
      "r2_denies\n",
      "r2_gold\n",
      "r2_lh\n",
      "r2_xp\n",
      "r2_health\n",
      "r2_max_health\n",
      "r2_max_mana\n",
      "r2_level\n",
      "r2_x\n",
      "r2_y\n",
      "r2_stuns\n",
      "r2_creeps_stacked\n",
      "r2_camps_stacked\n",
      "r2_rune_pickups\n",
      "r2_firstblood_claimed\n",
      "r2_teamfight_participation\n",
      "r2_towers_killed\n",
      "r2_roshans_killed\n",
      "r2_obs_placed\n",
      "r2_sen_placed\n",
      "r3_hero_id\n",
      "r3_kills\n",
      "r3_deaths\n",
      "r3_assists\n",
      "r3_denies\n",
      "r3_gold\n",
      "r3_lh\n",
      "r3_xp\n",
      "r3_health\n",
      "r3_max_health\n",
      "r3_max_mana\n",
      "r3_level\n",
      "r3_x\n",
      "r3_y\n",
      "r3_stuns\n",
      "r3_creeps_stacked\n",
      "r3_camps_stacked\n",
      "r3_rune_pickups\n",
      "r3_firstblood_claimed\n",
      "r3_teamfight_participation\n",
      "r3_towers_killed\n",
      "r3_roshans_killed\n",
      "r3_obs_placed\n",
      "r3_sen_placed\n",
      "r4_hero_id\n",
      "r4_kills\n",
      "r4_deaths\n",
      "r4_assists\n",
      "r4_denies\n",
      "r4_gold\n",
      "r4_lh\n",
      "r4_xp\n",
      "r4_health\n",
      "r4_max_health\n",
      "r4_max_mana\n",
      "r4_level\n",
      "r4_x\n",
      "r4_y\n",
      "r4_stuns\n",
      "r4_creeps_stacked\n",
      "r4_camps_stacked\n",
      "r4_rune_pickups\n",
      "r4_firstblood_claimed\n",
      "r4_teamfight_participation\n",
      "r4_towers_killed\n",
      "r4_roshans_killed\n",
      "r4_obs_placed\n",
      "r4_sen_placed\n",
      "r5_hero_id\n",
      "r5_kills\n",
      "r5_deaths\n",
      "r5_assists\n",
      "r5_denies\n",
      "r5_gold\n",
      "r5_lh\n",
      "r5_xp\n",
      "r5_health\n",
      "r5_max_health\n",
      "r5_max_mana\n",
      "r5_level\n",
      "r5_x\n",
      "r5_y\n",
      "r5_stuns\n",
      "r5_creeps_stacked\n",
      "r5_camps_stacked\n",
      "r5_rune_pickups\n",
      "r5_firstblood_claimed\n",
      "r5_teamfight_participation\n",
      "r5_towers_killed\n",
      "r5_roshans_killed\n",
      "r5_obs_placed\n",
      "r5_sen_placed\n",
      "d1_hero_id\n",
      "d1_kills\n",
      "d1_deaths\n",
      "d1_assists\n",
      "d1_denies\n",
      "d1_gold\n",
      "d1_lh\n",
      "d1_xp\n",
      "d1_health\n",
      "d1_max_health\n",
      "d1_max_mana\n",
      "d1_level\n",
      "d1_x\n",
      "d1_y\n",
      "d1_stuns\n",
      "d1_creeps_stacked\n",
      "d1_camps_stacked\n",
      "d1_rune_pickups\n",
      "d1_firstblood_claimed\n",
      "d1_teamfight_participation\n",
      "d1_towers_killed\n",
      "d1_roshans_killed\n",
      "d1_obs_placed\n",
      "d1_sen_placed\n",
      "d2_hero_id\n",
      "d2_kills\n",
      "d2_deaths\n",
      "d2_assists\n",
      "d2_denies\n",
      "d2_gold\n",
      "d2_lh\n",
      "d2_xp\n",
      "d2_health\n",
      "d2_max_health\n",
      "d2_max_mana\n",
      "d2_level\n",
      "d2_x\n",
      "d2_y\n",
      "d2_stuns\n",
      "d2_creeps_stacked\n",
      "d2_camps_stacked\n",
      "d2_rune_pickups\n",
      "d2_firstblood_claimed\n",
      "d2_teamfight_participation\n",
      "d2_towers_killed\n",
      "d2_roshans_killed\n",
      "d2_obs_placed\n",
      "d2_sen_placed\n",
      "d3_hero_id\n",
      "d3_kills\n",
      "d3_deaths\n",
      "d3_assists\n",
      "d3_denies\n",
      "d3_gold\n",
      "d3_lh\n",
      "d3_xp\n",
      "d3_health\n",
      "d3_max_health\n",
      "d3_max_mana\n",
      "d3_level\n",
      "d3_x\n",
      "d3_y\n",
      "d3_stuns\n",
      "d3_creeps_stacked\n",
      "d3_camps_stacked\n",
      "d3_rune_pickups\n",
      "d3_firstblood_claimed\n",
      "d3_teamfight_participation\n",
      "d3_towers_killed\n",
      "d3_roshans_killed\n",
      "d3_obs_placed\n",
      "d3_sen_placed\n",
      "d4_hero_id\n",
      "d4_kills\n",
      "d4_deaths\n",
      "d4_assists\n",
      "d4_denies\n",
      "d4_gold\n",
      "d4_lh\n",
      "d4_xp\n",
      "d4_health\n",
      "d4_max_health\n",
      "d4_max_mana\n",
      "d4_level\n",
      "d4_x\n",
      "d4_y\n",
      "d4_stuns\n",
      "d4_creeps_stacked\n",
      "d4_camps_stacked\n",
      "d4_rune_pickups\n",
      "d4_firstblood_claimed\n",
      "d4_teamfight_participation\n",
      "d4_towers_killed\n",
      "d4_roshans_killed\n",
      "d4_obs_placed\n",
      "d4_sen_placed\n",
      "d5_hero_id\n",
      "d5_kills\n",
      "d5_deaths\n",
      "d5_assists\n",
      "d5_denies\n",
      "d5_gold\n",
      "d5_lh\n",
      "d5_xp\n",
      "d5_health\n",
      "d5_max_health\n",
      "d5_max_mana\n",
      "d5_level\n",
      "d5_x\n",
      "d5_y\n",
      "d5_stuns\n",
      "d5_creeps_stacked\n",
      "d5_camps_stacked\n",
      "d5_rune_pickups\n",
      "d5_firstblood_claimed\n",
      "d5_teamfight_participation\n",
      "d5_towers_killed\n",
      "d5_roshans_killed\n",
      "d5_obs_placed\n",
      "d5_sen_placed\n"
     ]
    }
   ],
   "source": [
    "for i in range(len(df_train_features.columns)):\n",
    "    print(df_train_features.columns[i])"
   ]
  },
  {
   "cell_type": "markdown",
   "id": "00139732",
   "metadata": {},
   "source": [
    "Поменяем True/False в `radiant_win` на 0 и 1"
   ]
  },
  {
   "cell_type": "code",
   "execution_count": 7,
   "id": "43558c53",
   "metadata": {},
   "outputs": [],
   "source": [
    "X = df_train_features.values\n",
    "y = df_train_targets[\"radiant_win\"].values.astype(\"int8\")"
   ]
  },
  {
   "cell_type": "code",
   "execution_count": 8,
   "id": "9ac928d6",
   "metadata": {},
   "outputs": [],
   "source": [
    "X_train, X_valid, y_train, y_valid = train_test_split(X, y, \n",
    "                                                      test_size=0.3, \n",
    "                                                      random_state=42)"
   ]
  },
  {
   "cell_type": "code",
   "execution_count": 9,
   "id": "218429a1",
   "metadata": {},
   "outputs": [],
   "source": [
    "rf_model = RandomForestClassifier(random_state=42)"
   ]
  },
  {
   "cell_type": "markdown",
   "id": "0310eb85",
   "metadata": {},
   "source": [
    "Попробуем воспользоваться `GridSearchCV` для подбора оптимальных параметров"
   ]
  },
  {
   "cell_type": "code",
   "execution_count": 214,
   "id": "eb956a33",
   "metadata": {},
   "outputs": [],
   "source": [
    "param_grid = { \n",
    "    'n_estimators': [400, 500, 600, 700],\n",
    "    'max_features': ['auto', 'sqrt','log'],\n",
    "    'max_depth' : [6,7,8,9],\n",
    "    'criterion' :['gini', 'entropy']\n",
    "}"
   ]
  },
  {
   "cell_type": "code",
   "execution_count": 215,
   "id": "50c47af6",
   "metadata": {},
   "outputs": [
    {
     "name": "stdout",
     "output_type": "stream",
     "text": [
      "CPU times: user 33.4 s, sys: 556 ms, total: 34 s\n",
      "Wall time: 19min 15s\n"
     ]
    },
    {
     "data": {
      "text/plain": [
       "GridSearchCV(cv=5,\n",
       "             estimator=RandomForestClassifier(max_depth=8, n_estimators=500,\n",
       "                                              random_state=42),\n",
       "             n_jobs=-1,\n",
       "             param_grid={'criterion': ['gini', 'entropy'],\n",
       "                         'max_depth': [6, 7, 8, 9],\n",
       "                         'max_features': ['auto', 'sqrt', 'log'],\n",
       "                         'n_estimators': [400, 500, 600, 700]})"
      ]
     },
     "execution_count": 215,
     "metadata": {},
     "output_type": "execute_result"
    }
   ],
   "source": [
    "%%time\n",
    "pr_rfc = GridSearchCV(estimator=rf_model, param_grid=param_grid, cv=5, n_jobs=-1)\n",
    "pr_rfc.fit(X_train, y_train)"
   ]
  },
  {
   "cell_type": "markdown",
   "id": "7bec89d7",
   "metadata": {},
   "source": [
    "Это было долго, но все таки давайте посмотрим на лучшие параметры"
   ]
  },
  {
   "cell_type": "code",
   "execution_count": 217,
   "id": "5208c365",
   "metadata": {},
   "outputs": [
    {
     "data": {
      "text/plain": [
       "{'criterion': 'gini',\n",
       " 'max_depth': 9,\n",
       " 'max_features': 'auto',\n",
       " 'n_estimators': 600}"
      ]
     },
     "execution_count": 217,
     "metadata": {},
     "output_type": "execute_result"
    }
   ],
   "source": [
    "pr_rfc.best_params_"
   ]
  },
  {
   "cell_type": "code",
   "execution_count": 57,
   "id": "40f8b1bb",
   "metadata": {},
   "outputs": [],
   "source": [
    "rf_model = RandomForestClassifier(n_estimators=600, max_depth=9, \n",
    "                                  max_features= 'auto', random_state=42, \n",
    "                                  criterion='gini')"
   ]
  },
  {
   "cell_type": "code",
   "execution_count": 58,
   "id": "c4c58a60",
   "metadata": {
    "scrolled": true
   },
   "outputs": [
    {
     "data": {
      "text/plain": [
       "RandomForestClassifier(max_depth=9, n_estimators=600, random_state=42)"
      ]
     },
     "execution_count": 58,
     "metadata": {},
     "output_type": "execute_result"
    }
   ],
   "source": [
    "rf_model.fit(X_train, y_train)"
   ]
  },
  {
   "cell_type": "code",
   "execution_count": 59,
   "id": "506e6123",
   "metadata": {},
   "outputs": [],
   "source": [
    "y_pred1 = rf_model.predict_proba(X_valid)[:, 1]"
   ]
  },
  {
   "cell_type": "code",
   "execution_count": 66,
   "id": "a880eca9",
   "metadata": {},
   "outputs": [
    {
     "name": "stdout",
     "output_type": "stream",
     "text": [
      "ROC-AUC score на отложенной части: 0.7789441618808779\n"
     ]
    }
   ],
   "source": [
    "valid_score1 = roc_auc_score(y_valid, y_pred)\n",
    "print(\"ROC-AUC score на отложенной части:\", valid_score1)"
   ]
  },
  {
   "cell_type": "markdown",
   "id": "c39e5e55",
   "metadata": {},
   "source": [
    "### Попробуем другие модели"
   ]
  },
  {
   "cell_type": "markdown",
   "id": "54df56e7",
   "metadata": {},
   "source": [
    "Попробуем логистическую регрессию, KNN, а также Desicion Tree, вдруг, они справятся с этой задачей лучше"
   ]
  },
  {
   "cell_type": "code",
   "execution_count": null,
   "id": "0abc443b",
   "metadata": {},
   "outputs": [],
   "source": [
    "lg_cv = LogisticRegression(cv=cv).fit(X_train, y_train)"
   ]
  },
  {
   "cell_type": "code",
   "execution_count": 63,
   "id": "fb5496a7",
   "metadata": {
    "collapsed": true
   },
   "outputs": [
    {
     "ename": "NameError",
     "evalue": "name 'DecisionTreeClassifier' is not defined",
     "output_type": "error",
     "traceback": [
      "\u001b[0;31m---------------------------------------------------------------------------\u001b[0m",
      "\u001b[0;31mNameError\u001b[0m                                 Traceback (most recent call last)",
      "Input \u001b[0;32mIn [63]\u001b[0m, in \u001b[0;36m<cell line: 11>\u001b[0;34m()\u001b[0m\n\u001b[1;32m      1\u001b[0m lg \u001b[38;5;241m=\u001b[39m GridSearchCV(LogisticRegression(solver\u001b[38;5;241m=\u001b[39m\u001b[38;5;124m\"\u001b[39m\u001b[38;5;124mliblinear\u001b[39m\u001b[38;5;124m\"\u001b[39m, max_iter\u001b[38;5;241m=\u001b[39m\u001b[38;5;241m100000\u001b[39m),\n\u001b[1;32m      2\u001b[0m                           {\u001b[38;5;124m\"\u001b[39m\u001b[38;5;124mpenalty\u001b[39m\u001b[38;5;124m\"\u001b[39m: (\u001b[38;5;124m\"\u001b[39m\u001b[38;5;124ml1\u001b[39m\u001b[38;5;124m\"\u001b[39m, \u001b[38;5;124m\"\u001b[39m\u001b[38;5;124ml2\u001b[39m\u001b[38;5;124m\"\u001b[39m),\n\u001b[1;32m      3\u001b[0m                            \u001b[38;5;124m\"\u001b[39m\u001b[38;5;124mC\u001b[39m\u001b[38;5;124m\"\u001b[39m: [\u001b[38;5;241m0.01\u001b[39m, \u001b[38;5;241m0.1\u001b[39m, \u001b[38;5;241m1\u001b[39m, \u001b[38;5;241m10\u001b[39m, \u001b[38;5;241m100\u001b[39m]}\n\u001b[1;32m      4\u001b[0m                           )\u001b[38;5;241m.\u001b[39mfit(X_train, y_train)\n\u001b[1;32m      6\u001b[0m knn \u001b[38;5;241m=\u001b[39m GridSearchCV(KNeighborsClassifier(),\n\u001b[1;32m      7\u001b[0m                          {\u001b[38;5;124m\"\u001b[39m\u001b[38;5;124mn_neighbors\u001b[39m\u001b[38;5;124m\"\u001b[39m: [\u001b[38;5;241m3\u001b[39m, \u001b[38;5;241m5\u001b[39m, \u001b[38;5;241m7\u001b[39m, \u001b[38;5;241m9\u001b[39m, \u001b[38;5;241m11\u001b[39m, \u001b[38;5;241m15\u001b[39m],\n\u001b[1;32m      8\u001b[0m                           \u001b[38;5;124m\"\u001b[39m\u001b[38;5;124mweights\u001b[39m\u001b[38;5;124m\"\u001b[39m: [\u001b[38;5;124m\"\u001b[39m\u001b[38;5;124muniform\u001b[39m\u001b[38;5;124m\"\u001b[39m, \u001b[38;5;124m\"\u001b[39m\u001b[38;5;124mdistance\u001b[39m\u001b[38;5;124m\"\u001b[39m],\n\u001b[1;32m      9\u001b[0m                           \u001b[38;5;124m\"\u001b[39m\u001b[38;5;124mp\u001b[39m\u001b[38;5;124m\"\u001b[39m: [\u001b[38;5;241m1\u001b[39m, \u001b[38;5;241m2\u001b[39m]})\u001b[38;5;241m.\u001b[39mfit(X_train, y_train)\n\u001b[0;32m---> 11\u001b[0m dt \u001b[38;5;241m=\u001b[39m GridSearchCV(\u001b[43mDecisionTreeClassifier\u001b[49m(), \n\u001b[1;32m     12\u001b[0m                           {\u001b[38;5;124m\"\u001b[39m\u001b[38;5;124mmax_depth\u001b[39m\u001b[38;5;124m\"\u001b[39m: [\u001b[38;5;241m1\u001b[39m, \u001b[38;5;241m3\u001b[39m, \u001b[38;5;241m5\u001b[39m, \u001b[38;5;241m7\u001b[39m, \u001b[38;5;241m10\u001b[39m],\n\u001b[1;32m     13\u001b[0m                            \u001b[38;5;124m\"\u001b[39m\u001b[38;5;124mmin_samples_leaf\u001b[39m\u001b[38;5;124m\"\u001b[39m: [\u001b[38;5;241m1\u001b[39m, \u001b[38;5;241m3\u001b[39m, \u001b[38;5;241m5\u001b[39m, \u001b[38;5;241m10\u001b[39m]}\n\u001b[1;32m     14\u001b[0m                         )\u001b[38;5;241m.\u001b[39mfit(X_train, y_train)\n",
      "\u001b[0;31mNameError\u001b[0m: name 'DecisionTreeClassifier' is not defined"
     ]
    }
   ],
   "source": [
    "lg = GridSearchCV(LogisticRegression(solver=\"liblinear\", max_iter=100000),\n",
    "                          {\"penalty\": (\"l1\", \"l2\"),\n",
    "                           \"C\": [0.01, 0.1, 1, 10, 100]}\n",
    "                          ).fit(X_train, y_train)\n",
    "\n",
    "knn = GridSearchCV(KNeighborsClassifier(),\n",
    "                         {\"n_neighbors\": [3, 5, 7, 9, 11, 15],\n",
    "                          \"weights\": [\"uniform\", \"distance\"],\n",
    "                          \"p\": [1, 2]}).fit(X_train, y_train)\n"
   ]
  },
  {
   "cell_type": "code",
   "execution_count": 76,
   "id": "424e6112",
   "metadata": {},
   "outputs": [],
   "source": [
    "dt = GridSearchCV(DecisionTreeClassifier(), \n",
    "                          {\"max_depth\": [1, 3, 5, 7, 10],\n",
    "                           \"min_samples_leaf\": [1, 3, 5, 10]}\n",
    "                        ).fit(X_train, y_train)"
   ]
  },
  {
   "cell_type": "code",
   "execution_count": 77,
   "id": "b3c39edf",
   "metadata": {},
   "outputs": [],
   "source": [
    "y_pred2 = lg.predict_proba(X_valid)[:, 1]\n",
    "y_pred3 = knn.predict_proba(X_valid)[:, 1]\n",
    "y_pred4 = dt.predict_proba(X_valid)[:, 1]\n",
    "\n",
    "valid_score2 = roc_auc_score(y_valid, y_pred2)\n",
    "valid_score3 = roc_auc_score(y_valid, y_pred3)\n",
    "valid_score4 = roc_auc_score(y_valid, y_pred4)"
   ]
  },
  {
   "cell_type": "markdown",
   "id": "b75684eb",
   "metadata": {},
   "source": [
    "### Визуализируем все наши ROC-AUC скоры"
   ]
  },
  {
   "cell_type": "code",
   "execution_count": 78,
   "id": "1c17808e",
   "metadata": {
    "scrolled": true
   },
   "outputs": [
    {
     "data": {
      "image/png": "[encoded data removed]",
      "text/plain": [
       "<Figure size 432x288 with 1 Axes>"
      ]
     },
     "metadata": {
      "needs_background": "light"
     },
     "output_type": "display_data"
    }
   ],
   "source": [
    "plt.bar(x=['Random Forest', 'Logistic Regression','KNN', 'Decision Tree'],\n",
    "            height=[valid_score1, valid_score2, valid_score3, valid_score4])\n",
    "plt.xlabel(\"\", size=15)\n",
    "plt.ylabel(\"ROC-AUC Score\", size=15)\n",
    "plt.title(\"ROC-AUC in different models\", size=20)\n",
    "plt.show()"
   ]
  },
  {
   "cell_type": "code",
   "execution_count": null,
   "id": "27f28f66",
   "metadata": {},
   "outputs": [],
   "source": [
    "print('ROC-AUC score for LogisticClassifier:',valid_score_2)"
   ]
  },
  {
   "cell_type": "markdown",
   "id": "4ae9018b",
   "metadata": {},
   "source": [
    "Здесь мы видим, что самый большой скор у `Logistic Regression`, следующим идем `Random Forest`."
   ]
  },
  {
   "cell_type": "markdown",
   "id": "ae29ec4c",
   "metadata": {},
   "source": [
    "### Пробуем кросс-валидацию для RandomForest"
   ]
  },
  {
   "cell_type": "code",
   "execution_count": 79,
   "id": "577703dc",
   "metadata": {},
   "outputs": [],
   "source": [
    "cv = ShuffleSplit(n_splits=5, test_size=0.3, random_state=42)"
   ]
  },
  {
   "cell_type": "code",
   "execution_count": 80,
   "id": "1feede3c",
   "metadata": {},
   "outputs": [
    {
     "name": "stdout",
     "output_type": "stream",
     "text": [
      "CPU times: user 2min 39s, sys: 1.04 s, total: 2min 40s\n",
      "Wall time: 2min 40s\n"
     ]
    }
   ],
   "source": [
    "%%time\n",
    "rf_model = RandomForestClassifier(n_estimators=600, max_depth=9, max_features='auto',\n",
    "                                  criterion='gini',random_state=42)\n",
    "cv_scores_rf = cross_val_score(rf_model, X, y, cv=cv, scoring=\"roc_auc\")"
   ]
  },
  {
   "cell_type": "code",
   "execution_count": 105,
   "id": "593e8abb",
   "metadata": {},
   "outputs": [
    {
     "name": "stdout",
     "output_type": "stream",
     "text": [
      "[0.77894416 0.77466402 0.77981766 0.7831249  0.78164608]\n"
     ]
    }
   ],
   "source": [
    "print(cv_scores_rf)"
   ]
  },
  {
   "cell_type": "markdown",
   "id": "ee984001",
   "metadata": {},
   "source": [
    "При кросс-валидации значение ROC-AUC **выше**, чем при обычном разделении на test и train"
   ]
  },
  {
   "cell_type": "code",
   "execution_count": 83,
   "id": "ca508db2",
   "metadata": {},
   "outputs": [
    {
     "name": "stdout",
     "output_type": "stream",
     "text": [
      "Среднее значение ROC-AUC на кросс-валидации: 0.7796393650340999\n"
     ]
    }
   ],
   "source": [
    "print(f\"Среднее значение ROC-AUC на кросс-валидации: {cv_scores_rf.mean()}\")"
   ]
  },
  {
   "cell_type": "markdown",
   "id": "61e7b036",
   "metadata": {},
   "source": [
    "### XGBOOST"
   ]
  },
  {
   "cell_type": "code",
   "execution_count": 96,
   "id": "85edff04",
   "metadata": {},
   "outputs": [],
   "source": [
    "import xgboost\n",
    "\n",
    "xgb = xgboost.XGBRFClassifier(n_estimators=800,  \n",
    "                     learning_rate=0.1, \n",
    "                     max_depth=9, \n",
    "                     random_state=42,\n",
    "                     min_child_weight=9, \n",
    "                     n_jobs=-1)\n"
   ]
  },
  {
   "cell_type": "code",
   "execution_count": 97,
   "id": "e035c847",
   "metadata": {},
   "outputs": [
    {
     "name": "stdout",
     "output_type": "stream",
     "text": [
      "[15:35:30] WARNING: /private/var/folders/5l/9jtg_90x5s575m1zqn_h0kgm0000gn/T/pip-install-1g9j8bnb/xgboost_d1a94debdb7c46b09499c963911dba1a/build/temp.macosx-10.9-universal2-3.10/xgboost/src/learner.cc:1115: Starting in XGBoost 1.3.0, the default evaluation metric used with the objective 'binary:logistic' was changed from 'error' to 'logloss'. Explicitly set eval_metric if you'd like to restore the old behavior.\n"
     ]
    },
    {
     "data": {
      "text/plain": [
       "XGBRFClassifier(base_score=0.5, booster='gbtree', colsample_bylevel=1,\n",
       "                colsample_bytree=1, enable_categorical=False, gamma=0,\n",
       "                gpu_id=-1, importance_type=None, interaction_constraints='',\n",
       "                learning_rate=0.1, max_delta_step=0, max_depth=9,\n",
       "                min_child_weight=9, missing=nan, monotone_constraints='()',\n",
       "                n_estimators=800, n_jobs=-1, num_parallel_tree=800,\n",
       "                objective='binary:logistic', predictor='auto', random_state=42,\n",
       "                reg_alpha=0, scale_pos_weight=1, tree_method='exact',\n",
       "                validate_parameters=1, verbosity=None)"
      ]
     },
     "execution_count": 97,
     "metadata": {},
     "output_type": "execute_result"
    }
   ],
   "source": [
    "xgb.fit(X_train, y_train)"
   ]
  },
  {
   "cell_type": "code",
   "execution_count": 98,
   "id": "fba7bc94",
   "metadata": {},
   "outputs": [],
   "source": [
    "y_pred_xgb = xgb.predict_proba(X_valid)[:,1]"
   ]
  },
  {
   "cell_type": "code",
   "execution_count": 99,
   "id": "36564f26",
   "metadata": {},
   "outputs": [],
   "source": [
    "valid_score_xgb = roc_auc_score(y_valid, y_pred_xgb)"
   ]
  },
  {
   "cell_type": "code",
   "execution_count": 100,
   "id": "e658704f",
   "metadata": {},
   "outputs": [
    {
     "data": {
      "text/plain": [
       "0.7664447242723187"
      ]
     },
     "execution_count": 100,
     "metadata": {},
     "output_type": "execute_result"
    }
   ],
   "source": [
    "valid_score_xgb"
   ]
  },
  {
   "cell_type": "markdown",
   "id": "945da7c5",
   "metadata": {},
   "source": [
    "XBOOST справился почему-то хуже, чем стандартный RandomForest, а также чем LogisticClassifier"
   ]
  },
  {
   "cell_type": "markdown",
   "id": "6412703b",
   "metadata": {},
   "source": [
    "### LightGBM"
   ]
  },
  {
   "cell_type": "code",
   "execution_count": 101,
   "id": "ad8bc017",
   "metadata": {},
   "outputs": [],
   "source": [
    "import lightgbm\n",
    "\n",
    "lgb = lightgbm.LGBMClassifier(n_estimators=2000, \n",
    "                     learning_rate=0.1,\n",
    "                     max_depth=-1,\n",
    "                     num_leaves=2**6,                     \n",
    "                     random_state=42,\n",
    "                     min_child_weight=7,\n",
    "                     n_jobs=-1)\n"
   ]
  },
  {
   "cell_type": "code",
   "execution_count": 102,
   "id": "4a9496e8",
   "metadata": {},
   "outputs": [],
   "source": [
    "lgb.fit(X_train, y_train)\n",
    "y_pred_lgb = lgb.predict_proba(X_valid)[:,1]"
   ]
  },
  {
   "cell_type": "code",
   "execution_count": 103,
   "id": "35079a0e",
   "metadata": {},
   "outputs": [
    {
     "data": {
      "text/plain": [
       "0.8019235647150472"
      ]
     },
     "execution_count": 103,
     "metadata": {},
     "output_type": "execute_result"
    }
   ],
   "source": [
    "roc_auc_scorec_score(y_valid, y_pred_lgb)"
   ]
  },
  {
   "cell_type": "markdown",
   "id": "4ce6b6a2",
   "metadata": {},
   "source": [
    "LigthGBM тоже показал хорошие результаты, давайте попробуем кросс валлидацию для него"
   ]
  },
  {
   "cell_type": "code",
   "execution_count": 106,
   "id": "1484f162",
   "metadata": {},
   "outputs": [],
   "source": [
    "cv_scores_lgb = cross_val_score(lgb, X, y, cv=cv, scoring=\"roc_auc\")"
   ]
  },
  {
   "cell_type": "code",
   "execution_count": 107,
   "id": "0f7dc213",
   "metadata": {},
   "outputs": [
    {
     "name": "stdout",
     "output_type": "stream",
     "text": [
      "[0.80192356 0.79497533 0.79920725 0.80455229 0.80471652]\n"
     ]
    }
   ],
   "source": [
    "print(cv_scores_lgb)"
   ]
  },
  {
   "cell_type": "code",
   "execution_count": 108,
   "id": "076a2b74",
   "metadata": {},
   "outputs": [
    {
     "name": "stdout",
     "output_type": "stream",
     "text": [
      "Среднее значение ROC-AUC на кросс-валидации для LightGBM: 0.8010749912532674\n"
     ]
    }
   ],
   "source": [
    "print(f\"Среднее значение ROC-AUC на кросс-валидации для LightGBM: {cv_scores_lgb.mean()}\")"
   ]
  },
  {
   "cell_type": "markdown",
   "id": "e577f695",
   "metadata": {},
   "source": [
    "Кросс валидация получилась чуть хуже для LGB модели"
   ]
  },
  {
   "cell_type": "markdown",
   "id": "c41da865",
   "metadata": {},
   "source": [
    "### Предобработка"
   ]
  },
  {
   "cell_type": "markdown",
   "id": "f54c7bd7",
   "metadata": {},
   "source": [
    "Прежде чем начать чтение json файла, давайте предобработаем наши данные, удалим или соединим некоторые признаки"
   ]
  },
  {
   "cell_type": "code",
   "execution_count": 113,
   "id": "a034b3d7",
   "metadata": {},
   "outputs": [
    {
     "name": "stdout",
     "output_type": "stream",
     "text": [
      "game_time\n",
      "game_mode\n",
      "lobby_type\n",
      "objectives_len\n",
      "chat_len\n",
      "r1_hero_id\n",
      "r1_kills\n",
      "r1_deaths\n",
      "r1_assists\n",
      "r1_denies\n",
      "r1_gold\n",
      "r1_lh\n",
      "r1_xp\n",
      "r1_health\n",
      "r1_max_health\n",
      "r1_max_mana\n",
      "r1_level\n",
      "r1_x\n",
      "r1_y\n",
      "r1_stuns\n",
      "r1_creeps_stacked\n",
      "r1_camps_stacked\n",
      "r1_rune_pickups\n",
      "r1_firstblood_claimed\n",
      "r1_teamfight_participation\n",
      "r1_towers_killed\n",
      "r1_roshans_killed\n",
      "r1_obs_placed\n",
      "r1_sen_placed\n",
      "r2_hero_id\n",
      "r2_kills\n",
      "r2_deaths\n",
      "r2_assists\n",
      "r2_denies\n",
      "r2_gold\n",
      "r2_lh\n",
      "r2_xp\n",
      "r2_health\n",
      "r2_max_health\n",
      "r2_max_mana\n",
      "r2_level\n",
      "r2_x\n",
      "r2_y\n",
      "r2_stuns\n",
      "r2_creeps_stacked\n",
      "r2_camps_stacked\n",
      "r2_rune_pickups\n",
      "r2_firstblood_claimed\n",
      "r2_teamfight_participation\n",
      "r2_towers_killed\n",
      "r2_roshans_killed\n",
      "r2_obs_placed\n",
      "r2_sen_placed\n",
      "r3_hero_id\n",
      "r3_kills\n",
      "r3_deaths\n",
      "r3_assists\n",
      "r3_denies\n",
      "r3_gold\n",
      "r3_lh\n",
      "r3_xp\n",
      "r3_health\n",
      "r3_max_health\n",
      "r3_max_mana\n",
      "r3_level\n",
      "r3_x\n",
      "r3_y\n",
      "r3_stuns\n",
      "r3_creeps_stacked\n",
      "r3_camps_stacked\n",
      "r3_rune_pickups\n",
      "r3_firstblood_claimed\n",
      "r3_teamfight_participation\n",
      "r3_towers_killed\n",
      "r3_roshans_killed\n",
      "r3_obs_placed\n",
      "r3_sen_placed\n",
      "r4_hero_id\n",
      "r4_kills\n",
      "r4_deaths\n",
      "r4_assists\n",
      "r4_denies\n",
      "r4_gold\n",
      "r4_lh\n",
      "r4_xp\n",
      "r4_health\n",
      "r4_max_health\n",
      "r4_max_mana\n",
      "r4_level\n",
      "r4_x\n",
      "r4_y\n",
      "r4_stuns\n",
      "r4_creeps_stacked\n",
      "r4_camps_stacked\n",
      "r4_rune_pickups\n",
      "r4_firstblood_claimed\n",
      "r4_teamfight_participation\n",
      "r4_towers_killed\n",
      "r4_roshans_killed\n",
      "r4_obs_placed\n",
      "r4_sen_placed\n",
      "r5_hero_id\n",
      "r5_kills\n",
      "r5_deaths\n",
      "r5_assists\n",
      "r5_denies\n",
      "r5_gold\n",
      "r5_lh\n",
      "r5_xp\n",
      "r5_health\n",
      "r5_max_health\n",
      "r5_max_mana\n",
      "r5_level\n",
      "r5_x\n",
      "r5_y\n",
      "r5_stuns\n",
      "r5_creeps_stacked\n",
      "r5_camps_stacked\n",
      "r5_rune_pickups\n",
      "r5_firstblood_claimed\n",
      "r5_teamfight_participation\n",
      "r5_towers_killed\n",
      "r5_roshans_killed\n",
      "r5_obs_placed\n",
      "r5_sen_placed\n",
      "d1_hero_id\n",
      "d1_kills\n",
      "d1_deaths\n",
      "d1_assists\n",
      "d1_denies\n",
      "d1_gold\n",
      "d1_lh\n",
      "d1_xp\n",
      "d1_health\n",
      "d1_max_health\n",
      "d1_max_mana\n",
      "d1_level\n",
      "d1_x\n",
      "d1_y\n",
      "d1_stuns\n",
      "d1_creeps_stacked\n",
      "d1_camps_stacked\n",
      "d1_rune_pickups\n",
      "d1_firstblood_claimed\n",
      "d1_teamfight_participation\n",
      "d1_towers_killed\n",
      "d1_roshans_killed\n",
      "d1_obs_placed\n",
      "d1_sen_placed\n",
      "d2_hero_id\n",
      "d2_kills\n",
      "d2_deaths\n",
      "d2_assists\n",
      "d2_denies\n",
      "d2_gold\n",
      "d2_lh\n",
      "d2_xp\n",
      "d2_health\n",
      "d2_max_health\n",
      "d2_max_mana\n",
      "d2_level\n",
      "d2_x\n",
      "d2_y\n",
      "d2_stuns\n",
      "d2_creeps_stacked\n",
      "d2_camps_stacked\n",
      "d2_rune_pickups\n",
      "d2_firstblood_claimed\n",
      "d2_teamfight_participation\n",
      "d2_towers_killed\n",
      "d2_roshans_killed\n",
      "d2_obs_placed\n",
      "d2_sen_placed\n",
      "d3_hero_id\n",
      "d3_kills\n",
      "d3_deaths\n",
      "d3_assists\n",
      "d3_denies\n",
      "d3_gold\n",
      "d3_lh\n",
      "d3_xp\n",
      "d3_health\n",
      "d3_max_health\n",
      "d3_max_mana\n",
      "d3_level\n",
      "d3_x\n",
      "d3_y\n",
      "d3_stuns\n",
      "d3_creeps_stacked\n",
      "d3_camps_stacked\n",
      "d3_rune_pickups\n",
      "d3_firstblood_claimed\n",
      "d3_teamfight_participation\n",
      "d3_towers_killed\n",
      "d3_roshans_killed\n",
      "d3_obs_placed\n",
      "d3_sen_placed\n",
      "d4_hero_id\n",
      "d4_kills\n",
      "d4_deaths\n",
      "d4_assists\n",
      "d4_denies\n",
      "d4_gold\n",
      "d4_lh\n",
      "d4_xp\n",
      "d4_health\n",
      "d4_max_health\n",
      "d4_max_mana\n",
      "d4_level\n",
      "d4_x\n",
      "d4_y\n",
      "d4_stuns\n",
      "d4_creeps_stacked\n",
      "d4_camps_stacked\n",
      "d4_rune_pickups\n",
      "d4_firstblood_claimed\n",
      "d4_teamfight_participation\n",
      "d4_towers_killed\n",
      "d4_roshans_killed\n",
      "d4_obs_placed\n",
      "d4_sen_placed\n",
      "d5_hero_id\n",
      "d5_kills\n",
      "d5_deaths\n",
      "d5_assists\n",
      "d5_denies\n",
      "d5_gold\n",
      "d5_lh\n",
      "d5_xp\n",
      "d5_health\n",
      "d5_max_health\n",
      "d5_max_mana\n",
      "d5_level\n",
      "d5_x\n",
      "d5_y\n",
      "d5_stuns\n",
      "d5_creeps_stacked\n",
      "d5_camps_stacked\n",
      "d5_rune_pickups\n",
      "d5_firstblood_claimed\n",
      "d5_teamfight_participation\n",
      "d5_towers_killed\n",
      "d5_roshans_killed\n",
      "d5_obs_placed\n",
      "d5_sen_placed\n"
     ]
    }
   ],
   "source": [
    "for i in range(len(df_train_features.columns)):\n",
    "    print(df_train_features.columns[i])"
   ]
  },
  {
   "cell_type": "markdown",
   "id": "740bf5a0",
   "metadata": {},
   "source": [
    "Для начала применим **constant features**"
   ]
  },
  {
   "cell_type": "code",
   "execution_count": 138,
   "id": "ff21efe9",
   "metadata": {},
   "outputs": [
    {
     "data": {
      "text/plain": [
       "VarianceThreshold(threshold=0)"
      ]
     },
     "execution_count": 138,
     "metadata": {},
     "output_type": "execute_result"
    }
   ],
   "source": [
    "from sklearn.feature_selection import VarianceThreshold\n",
    "\n",
    "sel = VarianceThreshold(threshold=0)\n",
    "sel.fit(X_train)"
   ]
  },
  {
   "cell_type": "code",
   "execution_count": 139,
   "id": "13dae56f",
   "metadata": {},
   "outputs": [
    {
     "name": "stdout",
     "output_type": "stream",
     "text": [
      "0\n"
     ]
    },
    {
     "data": {
      "text/plain": [
       "[]"
      ]
     },
     "execution_count": 139,
     "metadata": {},
     "output_type": "execute_result"
    }
   ],
   "source": [
    "print(\n",
    "    len([\n",
    "        x for x in df_train_features.columns\n",
    "        if x not in df_train_features.columns[sel.get_support()]\n",
    "    ]))\n",
    "\n",
    "[x for x in df_train_features.columns if x not in df_train_features.columns[sel.get_support()]]"
   ]
  },
  {
   "cell_type": "markdown",
   "id": "5e04c3d3",
   "metadata": {},
   "source": [
    "Этот способ не помогает выявить интересующие нас признаки, попробуем увеличить `treshhold`, тем самамым воспользуемся **quasi-constant features**"
   ]
  },
  {
   "cell_type": "code",
   "execution_count": 140,
   "id": "64ea0929",
   "metadata": {},
   "outputs": [
    {
     "data": {
      "text/plain": [
       "VarianceThreshold(threshold=0.1)"
      ]
     },
     "execution_count": 140,
     "metadata": {},
     "output_type": "execute_result"
    }
   ],
   "source": [
    "sel = VarianceThreshold(threshold=0.1)\n",
    "sel.fit(X_train)"
   ]
  },
  {
   "cell_type": "code",
   "execution_count": 141,
   "id": "720e2995",
   "metadata": {
    "scrolled": true
   },
   "outputs": [
    {
     "name": "stdout",
     "output_type": "stream",
     "text": [
      "30\n"
     ]
    },
    {
     "data": {
      "text/plain": [
       "['r1_firstblood_claimed',\n",
       " 'r1_teamfight_participation',\n",
       " 'r1_roshans_killed',\n",
       " 'r2_firstblood_claimed',\n",
       " 'r2_teamfight_participation',\n",
       " 'r2_roshans_killed',\n",
       " 'r3_firstblood_claimed',\n",
       " 'r3_teamfight_participation',\n",
       " 'r3_roshans_killed',\n",
       " 'r4_firstblood_claimed',\n",
       " 'r4_teamfight_participation',\n",
       " 'r4_roshans_killed',\n",
       " 'r5_firstblood_claimed',\n",
       " 'r5_teamfight_participation',\n",
       " 'r5_roshans_killed',\n",
       " 'd1_firstblood_claimed',\n",
       " 'd1_teamfight_participation',\n",
       " 'd1_roshans_killed',\n",
       " 'd2_firstblood_claimed',\n",
       " 'd2_teamfight_participation',\n",
       " 'd2_roshans_killed',\n",
       " 'd3_firstblood_claimed',\n",
       " 'd3_teamfight_participation',\n",
       " 'd3_roshans_killed',\n",
       " 'd4_firstblood_claimed',\n",
       " 'd4_teamfight_participation',\n",
       " 'd4_roshans_killed',\n",
       " 'd5_firstblood_claimed',\n",
       " 'd5_teamfight_participation',\n",
       " 'd5_roshans_killed']"
      ]
     },
     "execution_count": 141,
     "metadata": {},
     "output_type": "execute_result"
    }
   ],
   "source": [
    "print(\n",
    "    len([\n",
    "        x for x in df_train_features.columns\n",
    "        if x not in df_train_features.columns[sel.get_support()]\n",
    "    ]))\n",
    "\n",
    "[x for x in df_train_features.columns if x not in df_train_features.columns[sel.get_support()]]"
   ]
  },
  {
   "cell_type": "markdown",
   "id": "4c5652f8",
   "metadata": {},
   "source": [
    "Здесь мы видим, что для **всех** героев одни и теже переменные неизменны, это означает, что 3 переменные (ну или 30 для всех) показывают одно значение для 99% наблюдений.\n",
    "\n",
    "Теперь попробуем прогнать наши модели на уже очищенных данных"
   ]
  },
  {
   "cell_type": "code",
   "execution_count": 143,
   "id": "17331ead",
   "metadata": {},
   "outputs": [],
   "source": [
    "X_train_new = sel.transform(X_train)\n",
    "X_valid_new = sel.transform(X_valid)"
   ]
  },
  {
   "cell_type": "code",
   "execution_count": 144,
   "id": "5ff6f3db",
   "metadata": {},
   "outputs": [],
   "source": [
    "lg_sel = GridSearchCV(LogisticRegression(solver=\"liblinear\", max_iter=100000),\n",
    "                          {\"penalty\": (\"l1\", \"l2\"),\n",
    "                           \"C\": [0.01, 0.1, 1, 10, 100]}\n",
    "                          ).fit(X_train_new, y_train)\n",
    "\n",
    "rf_model_sel = RandomForestClassifier(n_estimators=600, max_depth=9, max_features='auto',\n",
    "                                      criterion='gini',random_state=42)\n",
    "\n",
    "lgb_sel = lightgbm.LGBMClassifier(n_estimators=2000, \n",
    "                     learning_rate=0.1,\n",
    "                     max_depth=-1,\n",
    "                     num_leaves=2**6,                     \n",
    "                     random_state=42,\n",
    "                     min_child_weight=7,\n",
    "                     n_jobs=-1).fit(X_train_new, y_train)"
   ]
  },
  {
   "cell_type": "code",
   "execution_count": 153,
   "id": "ad04ac90",
   "metadata": {},
   "outputs": [],
   "source": [
    "cv_scores_rf = cross_val_score(rf_model_sel, np.concatenate((X_train_new, X_valid_new)), \n",
    "                               y, cv=cv, scoring=\"roc_auc\")"
   ]
  },
  {
   "cell_type": "code",
   "execution_count": 154,
   "id": "35cc2521",
   "metadata": {
    "scrolled": true
   },
   "outputs": [
    {
     "name": "stdout",
     "output_type": "stream",
     "text": [
      "Среднее значение ROC-AUC на кросс-валидации, с чуть очищенными данными: 0.5014905967687834\n"
     ]
    }
   ],
   "source": [
    "print(f\"Среднее значение ROC-AUC на кросс-валидации, с чуть очищенными данными: {cv_scores_rf.mean()}\") "
   ]
  },
  {
   "cell_type": "markdown",
   "id": "c357d28d",
   "metadata": {},
   "source": [
    "Для RandomForest стало все намного хуже"
   ]
  },
  {
   "cell_type": "code",
   "execution_count": 157,
   "id": "4bd7ec5b",
   "metadata": {},
   "outputs": [
    {
     "data": {
      "text/plain": [
       "0.798798528181745"
      ]
     },
     "execution_count": 157,
     "metadata": {},
     "output_type": "execute_result"
    }
   ],
   "source": [
    "y_pred_lgb_sel = lgb_sel.predict_proba(X_valid_new)[:,1]\n",
    "roc_auc_score(y_valid, y_pred_lgb_sel)"
   ]
  },
  {
   "cell_type": "code",
   "execution_count": 158,
   "id": "3d6ea595",
   "metadata": {},
   "outputs": [
    {
     "data": {
      "text/plain": [
       "0.8048370180748181"
      ]
     },
     "execution_count": 158,
     "metadata": {},
     "output_type": "execute_result"
    }
   ],
   "source": [
    "y_pred_lg_sel = lg_sel.predict_proba(X_valid_new)[:,1]\n",
    "roc_auc_score(y_valid, y_pred_lg_sel)"
   ]
  },
  {
   "cell_type": "markdown",
   "id": "1e2cc213",
   "metadata": {},
   "source": [
    "Для LogisticClassifier и LightGBM ситуация праткически не изменилась. Пока придержим этот вариант"
   ]
  },
  {
   "cell_type": "markdown",
   "id": "047dff04",
   "metadata": {},
   "source": [
    "### Удалим ненужные колонки"
   ]
  },
  {
   "cell_type": "markdown",
   "id": "9fdf4f5d",
   "metadata": {},
   "source": [
    "Удалим данные о hero_id, game_mode, также я удаляю сметри, убийства, ассисты, так как потом в будущем я буду брать эту информацию из json файлов и рассчитывать KDA,колчиество убитых таверов тоде будемдобвлять с json файла"
   ]
  },
  {
   "cell_type": "code",
   "execution_count": 198,
   "id": "d944486e",
   "metadata": {},
   "outputs": [],
   "source": [
    "need_to_delete = ['game_time', 'game_mode', 'lobby_type',\n",
    "                 'r1_hero_id','r1_kills','r1_deaths','r1_assists','r1_towers_killed','r1_x','r1_y',\n",
    "                 'r1_obs_placed','r1_sen_placed',\n",
    "                 'r2_hero_id','r2_kills','r2_deaths','r2_assists','r2_towers_killed','r2_x','r2_y',\n",
    "                 'r2_obs_placed','r2_sen_placed',\n",
    "                 'r3_hero_id','r3_kills','r3_deaths','r3_assists','r3_towers_killed','r3_x','r3_y',\n",
    "                 'r3_obs_placed','r3_sen_placed',\n",
    "                 'r4_hero_id','r4_kills','r4_deaths','r4_assists','r4_towers_killed','r4_x','r4_y',\n",
    "                 'r4_obs_placed','r4_sen_placed',\n",
    "                 'r5_hero_id','r5_kills','r5_deaths','r5_assists','r5_towers_killed','r5_x','r5_y',\n",
    "                 'r5_obs_placed','r5_sen_placed',\n",
    "                 'd1_hero_id','d1_kills','d1_deaths','d1_assists','d1_towers_killed','d1_x','d1_y',\n",
    "                 'd1_obs_placed','d1_sen_placed',\n",
    "                 'd2_hero_id','d2_kills','d2_deaths','d2_assists','d2_towers_killed','d2_x','d2_y',\n",
    "                 'd2_obs_placed','d2_sen_placed',\n",
    "                 'd3_hero_id','d3_kills','d3_deaths','d3_assists','d3_towers_killed','d3_x','d3_y',\n",
    "                 'd3_obs_placed','d3_sen_placed',\n",
    "                 'd4_hero_id','d4_kills','d4_deaths','d4_assists','d4_towers_killed','d4_x','d4_y',\n",
    "                 'd4_obs_placed','d4_sen_placed',\n",
    "                 'd5_hero_id','d5_kills','d5_deaths','d5_assists','d5_towers_killed','d5_x','d5_y',\n",
    "                 'd5_obs_placed','d5_sen_placed',]"
   ]
  },
  {
   "cell_type": "code",
   "execution_count": 199,
   "id": "49e14c22",
   "metadata": {
    "scrolled": true
   },
   "outputs": [],
   "source": [
    "df_train_features_dropd = df_train_features.drop(need_to_delete, axis = 1)"
   ]
  },
  {
   "cell_type": "code",
   "execution_count": 200,
   "id": "44b31382",
   "metadata": {},
   "outputs": [
    {
     "data": {
      "text/html": [
       "<div>\n",
       "<style scoped>\n",
       "    .dataframe tbody tr th:only-of-type {\n",
       "        vertical-align: middle;\n",
       "    }\n",
       "\n",
       "    .dataframe tbody tr th {\n",
       "        vertical-align: top;\n",
       "    }\n",
       "\n",
       "    .dataframe thead th {\n",
       "        text-align: right;\n",
       "    }\n",
       "</style>\n",
       "<table border=\"1\" class=\"dataframe\">\n",
       "  <thead>\n",
       "    <tr style=\"text-align: right;\">\n",
       "      <th></th>\n",
       "      <th>objectives_len</th>\n",
       "      <th>chat_len</th>\n",
       "      <th>r1_denies</th>\n",
       "      <th>r1_gold</th>\n",
       "      <th>r1_lh</th>\n",
       "      <th>r1_xp</th>\n",
       "      <th>r1_health</th>\n",
       "      <th>r1_max_health</th>\n",
       "      <th>r1_max_mana</th>\n",
       "      <th>r1_level</th>\n",
       "      <th>...</th>\n",
       "      <th>d5_max_health</th>\n",
       "      <th>d5_max_mana</th>\n",
       "      <th>d5_level</th>\n",
       "      <th>d5_stuns</th>\n",
       "      <th>d5_creeps_stacked</th>\n",
       "      <th>d5_camps_stacked</th>\n",
       "      <th>d5_rune_pickups</th>\n",
       "      <th>d5_firstblood_claimed</th>\n",
       "      <th>d5_teamfight_participation</th>\n",
       "      <th>d5_roshans_killed</th>\n",
       "    </tr>\n",
       "    <tr>\n",
       "      <th>match_id_hash</th>\n",
       "      <th></th>\n",
       "      <th></th>\n",
       "      <th></th>\n",
       "      <th></th>\n",
       "      <th></th>\n",
       "      <th></th>\n",
       "      <th></th>\n",
       "      <th></th>\n",
       "      <th></th>\n",
       "      <th></th>\n",
       "      <th></th>\n",
       "      <th></th>\n",
       "      <th></th>\n",
       "      <th></th>\n",
       "      <th></th>\n",
       "      <th></th>\n",
       "      <th></th>\n",
       "      <th></th>\n",
       "      <th></th>\n",
       "      <th></th>\n",
       "      <th></th>\n",
       "    </tr>\n",
       "  </thead>\n",
       "  <tbody>\n",
       "    <tr>\n",
       "      <th>b9c57c450ce74a2af79c9ce96fac144d</th>\n",
       "      <td>3</td>\n",
       "      <td>10</td>\n",
       "      <td>7</td>\n",
       "      <td>5257</td>\n",
       "      <td>52</td>\n",
       "      <td>3937</td>\n",
       "      <td>1160</td>\n",
       "      <td>1160</td>\n",
       "      <td>566.93805</td>\n",
       "      <td>8</td>\n",
       "      <td>...</td>\n",
       "      <td>800</td>\n",
       "      <td>446.93793</td>\n",
       "      <td>4</td>\n",
       "      <td>0.000000</td>\n",
       "      <td>0</td>\n",
       "      <td>0</td>\n",
       "      <td>0</td>\n",
       "      <td>0</td>\n",
       "      <td>0.00</td>\n",
       "      <td>0</td>\n",
       "    </tr>\n",
       "    <tr>\n",
       "      <th>6db558535151ea18ca70a6892197db41</th>\n",
       "      <td>0</td>\n",
       "      <td>0</td>\n",
       "      <td>0</td>\n",
       "      <td>176</td>\n",
       "      <td>0</td>\n",
       "      <td>0</td>\n",
       "      <td>680</td>\n",
       "      <td>680</td>\n",
       "      <td>506.93800</td>\n",
       "      <td>1</td>\n",
       "      <td>...</td>\n",
       "      <td>640</td>\n",
       "      <td>446.93793</td>\n",
       "      <td>1</td>\n",
       "      <td>0.000000</td>\n",
       "      <td>0</td>\n",
       "      <td>0</td>\n",
       "      <td>0</td>\n",
       "      <td>0</td>\n",
       "      <td>0.00</td>\n",
       "      <td>0</td>\n",
       "    </tr>\n",
       "    <tr>\n",
       "      <th>19c39fe2af2b547e48708ca005c6ae74</th>\n",
       "      <td>0</td>\n",
       "      <td>0</td>\n",
       "      <td>1</td>\n",
       "      <td>403</td>\n",
       "      <td>0</td>\n",
       "      <td>359</td>\n",
       "      <td>740</td>\n",
       "      <td>740</td>\n",
       "      <td>290.93777</td>\n",
       "      <td>2</td>\n",
       "      <td>...</td>\n",
       "      <td>680</td>\n",
       "      <td>278.93777</td>\n",
       "      <td>2</td>\n",
       "      <td>0.000000</td>\n",
       "      <td>0</td>\n",
       "      <td>0</td>\n",
       "      <td>0</td>\n",
       "      <td>0</td>\n",
       "      <td>0.00</td>\n",
       "      <td>0</td>\n",
       "    </tr>\n",
       "    <tr>\n",
       "      <th>c96d629dc0c39f0c616d1949938a6ba6</th>\n",
       "      <td>1</td>\n",
       "      <td>0</td>\n",
       "      <td>5</td>\n",
       "      <td>3085</td>\n",
       "      <td>1</td>\n",
       "      <td>2828</td>\n",
       "      <td>495</td>\n",
       "      <td>740</td>\n",
       "      <td>816.93830</td>\n",
       "      <td>6</td>\n",
       "      <td>...</td>\n",
       "      <td>800</td>\n",
       "      <td>626.93810</td>\n",
       "      <td>8</td>\n",
       "      <td>8.264696</td>\n",
       "      <td>0</td>\n",
       "      <td>0</td>\n",
       "      <td>3</td>\n",
       "      <td>0</td>\n",
       "      <td>0.25</td>\n",
       "      <td>0</td>\n",
       "    </tr>\n",
       "    <tr>\n",
       "      <th>156c88bff4e9c4668b0f53df3d870f1b</th>\n",
       "      <td>2</td>\n",
       "      <td>2</td>\n",
       "      <td>9</td>\n",
       "      <td>3516</td>\n",
       "      <td>40</td>\n",
       "      <td>3964</td>\n",
       "      <td>495</td>\n",
       "      <td>960</td>\n",
       "      <td>530.93800</td>\n",
       "      <td>8</td>\n",
       "      <td>...</td>\n",
       "      <td>620</td>\n",
       "      <td>434.93793</td>\n",
       "      <td>3</td>\n",
       "      <td>15.762911</td>\n",
       "      <td>3</td>\n",
       "      <td>1</td>\n",
       "      <td>0</td>\n",
       "      <td>1</td>\n",
       "      <td>0.50</td>\n",
       "      <td>0</td>\n",
       "    </tr>\n",
       "  </tbody>\n",
       "</table>\n",
       "<p>5 rows × 152 columns</p>\n",
       "</div>"
      ],
      "text/plain": [
       "                                  objectives_len  chat_len  r1_denies  \\\n",
       "match_id_hash                                                           \n",
       "b9c57c450ce74a2af79c9ce96fac144d               3        10          7   \n",
       "6db558535151ea18ca70a6892197db41               0         0          0   \n",
       "19c39fe2af2b547e48708ca005c6ae74               0         0          1   \n",
       "c96d629dc0c39f0c616d1949938a6ba6               1         0          5   \n",
       "156c88bff4e9c4668b0f53df3d870f1b               2         2          9   \n",
       "\n",
       "                                  r1_gold  r1_lh  r1_xp  r1_health  \\\n",
       "match_id_hash                                                        \n",
       "b9c57c450ce74a2af79c9ce96fac144d     5257     52   3937       1160   \n",
       "6db558535151ea18ca70a6892197db41      176      0      0        680   \n",
       "19c39fe2af2b547e48708ca005c6ae74      403      0    359        740   \n",
       "c96d629dc0c39f0c616d1949938a6ba6     3085      1   2828        495   \n",
       "156c88bff4e9c4668b0f53df3d870f1b     3516     40   3964        495   \n",
       "\n",
       "                                  r1_max_health  r1_max_mana  r1_level  ...  \\\n",
       "match_id_hash                                                           ...   \n",
       "b9c57c450ce74a2af79c9ce96fac144d           1160    566.93805         8  ...   \n",
       "6db558535151ea18ca70a6892197db41            680    506.93800         1  ...   \n",
       "19c39fe2af2b547e48708ca005c6ae74            740    290.93777         2  ...   \n",
       "c96d629dc0c39f0c616d1949938a6ba6            740    816.93830         6  ...   \n",
       "156c88bff4e9c4668b0f53df3d870f1b            960    530.93800         8  ...   \n",
       "\n",
       "                                  d5_max_health  d5_max_mana  d5_level  \\\n",
       "match_id_hash                                                            \n",
       "b9c57c450ce74a2af79c9ce96fac144d            800    446.93793         4   \n",
       "6db558535151ea18ca70a6892197db41            640    446.93793         1   \n",
       "19c39fe2af2b547e48708ca005c6ae74            680    278.93777         2   \n",
       "c96d629dc0c39f0c616d1949938a6ba6            800    626.93810         8   \n",
       "156c88bff4e9c4668b0f53df3d870f1b            620    434.93793         3   \n",
       "\n",
       "                                   d5_stuns  d5_creeps_stacked  \\\n",
       "match_id_hash                                                    \n",
       "b9c57c450ce74a2af79c9ce96fac144d   0.000000                  0   \n",
       "6db558535151ea18ca70a6892197db41   0.000000                  0   \n",
       "19c39fe2af2b547e48708ca005c6ae74   0.000000                  0   \n",
       "c96d629dc0c39f0c616d1949938a6ba6   8.264696                  0   \n",
       "156c88bff4e9c4668b0f53df3d870f1b  15.762911                  3   \n",
       "\n",
       "                                  d5_camps_stacked  d5_rune_pickups  \\\n",
       "match_id_hash                                                         \n",
       "b9c57c450ce74a2af79c9ce96fac144d                 0                0   \n",
       "6db558535151ea18ca70a6892197db41                 0                0   \n",
       "19c39fe2af2b547e48708ca005c6ae74                 0                0   \n",
       "c96d629dc0c39f0c616d1949938a6ba6                 0                3   \n",
       "156c88bff4e9c4668b0f53df3d870f1b                 1                0   \n",
       "\n",
       "                                  d5_firstblood_claimed  \\\n",
       "match_id_hash                                             \n",
       "b9c57c450ce74a2af79c9ce96fac144d                      0   \n",
       "6db558535151ea18ca70a6892197db41                      0   \n",
       "19c39fe2af2b547e48708ca005c6ae74                      0   \n",
       "c96d629dc0c39f0c616d1949938a6ba6                      0   \n",
       "156c88bff4e9c4668b0f53df3d870f1b                      1   \n",
       "\n",
       "                                  d5_teamfight_participation  \\\n",
       "match_id_hash                                                  \n",
       "b9c57c450ce74a2af79c9ce96fac144d                        0.00   \n",
       "6db558535151ea18ca70a6892197db41                        0.00   \n",
       "19c39fe2af2b547e48708ca005c6ae74                        0.00   \n",
       "c96d629dc0c39f0c616d1949938a6ba6                        0.25   \n",
       "156c88bff4e9c4668b0f53df3d870f1b                        0.50   \n",
       "\n",
       "                                  d5_roshans_killed  \n",
       "match_id_hash                                        \n",
       "b9c57c450ce74a2af79c9ce96fac144d                  0  \n",
       "6db558535151ea18ca70a6892197db41                  0  \n",
       "19c39fe2af2b547e48708ca005c6ae74                  0  \n",
       "c96d629dc0c39f0c616d1949938a6ba6                  0  \n",
       "156c88bff4e9c4668b0f53df3d870f1b                  0  \n",
       "\n",
       "[5 rows x 152 columns]"
      ]
     },
     "execution_count": 200,
     "metadata": {},
     "output_type": "execute_result"
    }
   ],
   "source": [
    "df_train_features_dropd.head()"
   ]
  },
  {
   "cell_type": "markdown",
   "id": "24d0a10d",
   "metadata": {},
   "source": [
    "### Чтение JSON файлов"
   ]
  },
  {
   "cell_type": "code",
   "execution_count": 194,
   "id": "c3736c18",
   "metadata": {},
   "outputs": [],
   "source": [
    "with open(os.path.join(PATH_TO_DATA, \"train_raw_data.jsonl\")) as fin:\n",
    "    # прочтем 419 строку\n",
    "    for i in range(800):\n",
    "        line = fin.readline()\n",
    "    \n",
    "    # переведем JSON в питоновский словарь \n",
    "    match = json.loads(line)"
   ]
  },
  {
   "cell_type": "markdown",
   "id": "73d29ce2",
   "metadata": {},
   "source": [
    "Посмотрим на все параметры, которые у нас есть в json файле"
   ]
  },
  {
   "cell_type": "code",
   "execution_count": 174,
   "id": "edeebc2f",
   "metadata": {},
   "outputs": [
    {
     "data": {
      "text/plain": [
       "dict_keys(['game_time', 'match_id_hash', 'teamfights', 'objectives', 'chat', 'game_mode', 'lobby_type', 'players', 'targets'])"
      ]
     },
     "execution_count": 174,
     "metadata": {},
     "output_type": "execute_result"
    }
   ],
   "source": [
    "match.keys()  "
   ]
  },
  {
   "cell_type": "markdown",
   "id": "449e7207",
   "metadata": {},
   "source": [
    "Посмотрим, какая информация находится для одного игрока"
   ]
  },
  {
   "cell_type": "code",
   "execution_count": 184,
   "id": "9f86b647",
   "metadata": {},
   "outputs": [
    {
     "data": {
      "text/plain": [
       "{'player_slot': 1,\n",
       " 'hero_id': 86,\n",
       " 'hero_name': 'npc_dota_hero_rubick',\n",
       " 'account_id_hash': '1c2500195e6ab646fc9371344724aa77',\n",
       " 'ability_upgrades': [{'ability': 5448, 'time': 294, 'level': 1},\n",
       "  {'ability': 5450, 'time': 444, 'level': 2},\n",
       "  {'ability': 5450, 'time': 509, 'level': 3},\n",
       "  {'ability': 5451, 'time': 670, 'level': 4},\n",
       "  {'ability': 5450, 'time': 801, 'level': 5},\n",
       "  {'ability': 5452, 'time': 894, 'level': 6},\n",
       "  {'ability': 5450, 'time': 981, 'level': 7},\n",
       "  {'ability': 5448, 'time': 1120, 'level': 8},\n",
       "  {'ability': 5448, 'time': 1335, 'level': 9},\n",
       "  {'ability': 6366, 'time': 1433, 'level': 10},\n",
       "  {'ability': 5448, 'time': 1653, 'level': 11}],\n",
       " 'obs_placed': 0,\n",
       " 'sen_placed': 2,\n",
       " 'creeps_stacked': 0,\n",
       " 'camps_stacked': 0,\n",
       " 'rune_pickups': 1,\n",
       " 'firstblood_claimed': 0,\n",
       " 'teamfight_participation': 0.667,\n",
       " 'towers_killed': 0,\n",
       " 'roshans_killed': 0,\n",
       " 'observers_placed': 0,\n",
       " 'stuns': 19.828,\n",
       " 'max_hero_hit': {'type': 'max_hero_hit',\n",
       "  'time': 764.313,\n",
       "  'max': True,\n",
       "  'inflictor': 'invoker_sun_strike',\n",
       "  'unit': 'npc_dota_hero_rubick',\n",
       "  'key': 'npc_dota_hero_mirana',\n",
       "  'value': 360,\n",
       "  'slot': 1,\n",
       "  'player_slot': 1},\n",
       " 'times': [0,\n",
       "  60,\n",
       "  120,\n",
       "  180,\n",
       "  240,\n",
       "  300,\n",
       "  360,\n",
       "  420,\n",
       "  480,\n",
       "  540,\n",
       "  600,\n",
       "  660,\n",
       "  720,\n",
       "  780,\n",
       "  840,\n",
       "  900,\n",
       "  960,\n",
       "  1020,\n",
       "  1080,\n",
       "  1140,\n",
       "  1200,\n",
       "  1260,\n",
       "  1320,\n",
       "  1380,\n",
       "  1440,\n",
       "  1500,\n",
       "  1560,\n",
       "  1620,\n",
       "  1680],\n",
       " 'gold_t': [1,\n",
       "  171,\n",
       "  262,\n",
       "  486,\n",
       "  577,\n",
       "  688,\n",
       "  1007,\n",
       "  1098,\n",
       "  1189,\n",
       "  1738,\n",
       "  1829,\n",
       "  2196,\n",
       "  2373,\n",
       "  2777,\n",
       "  2868,\n",
       "  2959,\n",
       "  3049,\n",
       "  3366,\n",
       "  3519,\n",
       "  3775,\n",
       "  3866,\n",
       "  3990,\n",
       "  4237,\n",
       "  4435,\n",
       "  4626,\n",
       "  5039,\n",
       "  5213,\n",
       "  5303,\n",
       "  5662],\n",
       " 'lh_t': [0,\n",
       "  0,\n",
       "  0,\n",
       "  3,\n",
       "  3,\n",
       "  4,\n",
       "  5,\n",
       "  5,\n",
       "  5,\n",
       "  6,\n",
       "  6,\n",
       "  7,\n",
       "  11,\n",
       "  12,\n",
       "  12,\n",
       "  12,\n",
       "  12,\n",
       "  15,\n",
       "  17,\n",
       "  21,\n",
       "  21,\n",
       "  22,\n",
       "  25,\n",
       "  27,\n",
       "  28,\n",
       "  35,\n",
       "  37,\n",
       "  37,\n",
       "  41],\n",
       " 'dn_t': [0,\n",
       "  0,\n",
       "  0,\n",
       "  1,\n",
       "  1,\n",
       "  1,\n",
       "  1,\n",
       "  1,\n",
       "  1,\n",
       "  1,\n",
       "  1,\n",
       "  1,\n",
       "  1,\n",
       "  1,\n",
       "  1,\n",
       "  1,\n",
       "  1,\n",
       "  1,\n",
       "  1,\n",
       "  1,\n",
       "  1,\n",
       "  1,\n",
       "  1,\n",
       "  1,\n",
       "  1,\n",
       "  1,\n",
       "  1,\n",
       "  1,\n",
       "  1],\n",
       " 'xp_t': [0,\n",
       "  0,\n",
       "  146,\n",
       "  569,\n",
       "  727,\n",
       "  903,\n",
       "  1555,\n",
       "  1643,\n",
       "  1715,\n",
       "  2161,\n",
       "  2414,\n",
       "  2962,\n",
       "  3197,\n",
       "  3573,\n",
       "  3665,\n",
       "  3807,\n",
       "  3957,\n",
       "  4667,\n",
       "  4948,\n",
       "  5567,\n",
       "  5617,\n",
       "  5762,\n",
       "  5860,\n",
       "  6180,\n",
       "  6281,\n",
       "  6658,\n",
       "  6791,\n",
       "  6843,\n",
       "  7667],\n",
       " 'obs_log': [],\n",
       " 'sen_log': [{'time': 1191.342,\n",
       "   'tick': 55470,\n",
       "   'type': 'sen_log',\n",
       "   'key': '[84, 104]',\n",
       "   'slot': 1,\n",
       "   'x': 84,\n",
       "   'y': 104,\n",
       "   'z': 130,\n",
       "   'entityleft': False,\n",
       "   'ehandle': 6226589,\n",
       "   'player_slot': 1},\n",
       "  {'time': 1381.429,\n",
       "   'tick': 61174,\n",
       "   'type': 'sen_log',\n",
       "   'key': '[100, 94]',\n",
       "   'slot': 1,\n",
       "   'x': 100,\n",
       "   'y': 94,\n",
       "   'z': 130,\n",
       "   'entityleft': False,\n",
       "   'ehandle': 14893963,\n",
       "   'player_slot': 1}],\n",
       " 'obs_left_log': [],\n",
       " 'sen_left_log': [{'time': 1437.816,\n",
       "   'tick': 62866,\n",
       "   'type': 'sen_left_log',\n",
       "   'key': '[84, 104]',\n",
       "   'slot': 1,\n",
       "   'x': 84,\n",
       "   'y': 104,\n",
       "   'z': 130,\n",
       "   'entityleft': True,\n",
       "   'ehandle': 6226589,\n",
       "   'player_slot': 1},\n",
       "  {'time': 1627.903,\n",
       "   'tick': 68570,\n",
       "   'type': 'sen_left_log',\n",
       "   'key': '[100, 94]',\n",
       "   'slot': 1,\n",
       "   'x': 100,\n",
       "   'y': 94,\n",
       "   'z': 130,\n",
       "   'entityleft': True,\n",
       "   'ehandle': 14893963,\n",
       "   'player_slot': 1}],\n",
       " 'purchase_log': [{'time': -89.856, 'key': 'faerie_fire'},\n",
       "  {'time': -89.856, 'key': 'tango'},\n",
       "  {'time': -89.856, 'key': 'flask'},\n",
       "  {'time': -89.856, 'key': 'clarity'},\n",
       "  {'time': -89.856, 'key': 'tpscroll'},\n",
       "  {'time': -89.856, 'key': 'enchanted_mango'},\n",
       "  {'time': 86.046, 'key': 'magic_wand'},\n",
       "  {'time': 86.046, 'key': 'magic_stick'},\n",
       "  {'time': 404.301, 'key': 'boots'},\n",
       "  {'time': 404.801, 'key': 'tpscroll'},\n",
       "  {'time': 404.968, 'key': 'tpscroll'},\n",
       "  {'time': 445.758, 'key': 'infused_raindrop'},\n",
       "  {'time': 632.679, 'key': 'arcane_boots'},\n",
       "  {'time': 632.679, 'key': 'energy_booster'},\n",
       "  {'time': 711.36, 'key': 'tpscroll'},\n",
       "  {'time': 711.493, 'key': 'tpscroll'},\n",
       "  {'time': 880.852, 'key': 'infused_raindrop'},\n",
       "  {'time': 1063.407, 'key': 'tpscroll'},\n",
       "  {'time': 1070.272, 'key': 'cloak'},\n",
       "  {'time': 1178.512, 'key': 'ward_sentry'},\n",
       "  {'time': 1178.812, 'key': 'ward_sentry'},\n",
       "  {'time': 1436.183, 'key': 'shadow_amulet'},\n",
       "  {'time': 1443.681, 'key': 'glimmer_cape'}],\n",
       " 'kills_log': [{'time': 315.356, 'key': 'npc_dota_hero_mirana'},\n",
       "  {'time': 537.236, 'key': 'npc_dota_hero_juggernaut'},\n",
       "  {'time': 764.313, 'key': 'npc_dota_hero_mirana'}],\n",
       " 'buyback_log': [],\n",
       " 'runes_log': [{'time': 0.233, 'key': 5}],\n",
       " 'obs': {},\n",
       " 'sen': {'84': {'104': 1}, '100': {'94': 1}},\n",
       " 'actions': {'1': 3896,\n",
       "  '2': 75,\n",
       "  '3': 2,\n",
       "  '4': 328,\n",
       "  '5': 20,\n",
       "  '6': 70,\n",
       "  '7': 3,\n",
       "  '8': 29,\n",
       "  '10': 44,\n",
       "  '11': 12,\n",
       "  '15': 1,\n",
       "  '16': 21,\n",
       "  '19': 11,\n",
       "  '27': 2,\n",
       "  '33': 44},\n",
       " 'pings': {'0': 33},\n",
       " 'purchase': {'faerie_fire': 1,\n",
       "  'tango': 1,\n",
       "  'flask': 1,\n",
       "  'clarity': 1,\n",
       "  'tpscroll': 6,\n",
       "  'enchanted_mango': 1,\n",
       "  'magic_wand': 1,\n",
       "  'magic_stick': 1,\n",
       "  'boots': 1,\n",
       "  'infused_raindrop': 2,\n",
       "  'arcane_boots': 1,\n",
       "  'energy_booster': 1,\n",
       "  'cloak': 1,\n",
       "  'ward_sentry': 2,\n",
       "  'shadow_amulet': 1,\n",
       "  'glimmer_cape': 1},\n",
       " 'gold_reasons': {'0': 1005, '1': -523, '12': 1251, '13': 1702},\n",
       " 'xp_reasons': {'0': 274, '1': 1744, '2': 5881},\n",
       " 'killed': {'npc_dota_creep_goodguys_melee': 50,\n",
       "  'npc_dota_creep_badguys_melee': 7401,\n",
       "  'npc_dota_neutral_dark_troll_warlord': 81,\n",
       "  'npc_dota_neutral_dark_troll': 54,\n",
       "  'npc_dota_hero_mirana': 409,\n",
       "  'npc_dota_juggernaut_healing_ward': 260,\n",
       "  'npc_dota_hero_juggernaut': 203,\n",
       "  'npc_dota_furion_treant': 1823,\n",
       "  'npc_dota_creep_badguys_ranged': 502,\n",
       "  'npc_dota_invoker_forged_spirit': 363,\n",
       "  'npc_dota_observer_wards': 4},\n",
       " 'item_uses': {'tango': 3,\n",
       "  'tpscroll': 5,\n",
       "  'clarity': 1,\n",
       "  'flask': 1,\n",
       "  'arcane_boots': 13,\n",
       "  'magic_wand': 5,\n",
       "  'faerie_fire': 1,\n",
       "  'ward_sentry': 2,\n",
       "  'glimmer_cape': 3},\n",
       " 'ability_uses': {'rubick_telekinesis': 9,\n",
       "  'rubick_telekinesis_land': 8,\n",
       "  'rubick_fade_bolt': 35,\n",
       "  'rubick_null_field': 3,\n",
       "  'rubick_spell_steal': 8,\n",
       "  'mirana_starfall': 2,\n",
       "  'invoker_sun_strike': 4,\n",
       "  'dark_willow_cursed_crown': 2,\n",
       "  'dark_willow_shadow_realm': 2,\n",
       "  'juggernaut_omni_slash': 1,\n",
       "  'furion_force_of_nature': 1},\n",
       " 'hero_hits': {'null': 35,\n",
       "  'rubick_fade_bolt': 31,\n",
       "  'mirana_starfall': 2,\n",
       "  'invoker_sun_strike': 2,\n",
       "  'dark_willow_shadow_realm': 1,\n",
       "  'juggernaut_omni_slash': 6},\n",
       " 'damage': {'npc_dota_hero_furion': 1470,\n",
       "  'npc_dota_furion_treant': 6456,\n",
       "  'npc_dota_creep_goodguys_melee': 50,\n",
       "  'npc_dota_creep_badguys_melee': 19327,\n",
       "  'npc_dota_neutral_dark_troll_warlord': 135,\n",
       "  'npc_dota_dark_troll_warlord_skeleton_warrior': 137,\n",
       "  'npc_dota_neutral_dark_troll': 112,\n",
       "  'npc_dota_creep_badguys_ranged': 3660,\n",
       "  'npc_dota_hero_mirana': 1239,\n",
       "  'npc_dota_hero_invoker': 1404,\n",
       "  'npc_dota_hero_juggernaut': 4100,\n",
       "  'npc_dota_badguys_siege': 277,\n",
       "  'npc_dota_juggernaut_healing_ward': 260,\n",
       "  'npc_dota_neutral_centaur_khan': 48,\n",
       "  'npc_dota_neutral_harpy_scout': 254,\n",
       "  'npc_dota_neutral_harpy_storm': 254,\n",
       "  'npc_dota_hero_dark_willow': 1365,\n",
       "  'npc_dota_invoker_forged_spirit': 1649,\n",
       "  'npc_dota_observer_wards': 4},\n",
       " 'damage_taken': {'npc_dota_creep_badguys_ranged': 180,\n",
       "  'npc_dota_hero_furion': 2175,\n",
       "  'npc_dota_neutral_dark_troll': 18,\n",
       "  'npc_dota_dark_troll_warlord_skeleton_warrior': 18,\n",
       "  'npc_dota_creep_badguys_melee': 274,\n",
       "  'npc_dota_hero_invoker': 1208,\n",
       "  'npc_dota_hero_juggernaut': 2249,\n",
       "  'npc_dota_hero_dark_willow': 1935,\n",
       "  'npc_dota_hero_mirana': 217,\n",
       "  'npc_dota_neutral_harpy_storm': 13,\n",
       "  'npc_dota_neutral_harpy_scout': 15},\n",
       " 'damage_inflictor': {'null': 1582,\n",
       "  'rubick_fade_bolt': 6011,\n",
       "  'mirana_starfall': 255,\n",
       "  'invoker_sun_strike': 720,\n",
       "  'dark_willow_shadow_realm': 278,\n",
       "  'juggernaut_omni_slash': 732},\n",
       " 'runes': {'5': 1},\n",
       " 'killed_by': {'npc_dota_hero_juggernaut': 3, 'npc_dota_hero_invoker': 1},\n",
       " 'kill_streaks': {},\n",
       " 'multi_kills': {},\n",
       " 'life_state': {'0': 3297, '1': 24, '2': 147},\n",
       " 'healing': {'npc_dota_hero_rubick': 923},\n",
       " 'damage_inflictor_received': {'null': 3547,\n",
       "  'juggernaut_blade_fury': 422,\n",
       "  'orb_of_venom': 18,\n",
       "  'furion_wrath_of_nature': 913,\n",
       "  'mirana_arrow': 217,\n",
       "  'dark_willow_bramble_maze': 712,\n",
       "  'dark_willow_bedlam': 298,\n",
       "  'invoker_tornado': 198,\n",
       "  'dark_willow_shadow_realm': 392,\n",
       "  'bfury': 424,\n",
       "  'invoker_ice_wall': 30,\n",
       "  'invoker_chaos_meteor': 132},\n",
       " 'randomed': False,\n",
       " 'pred_vict': False,\n",
       " 'gold': 5985,\n",
       " 'lh': 46,\n",
       " 'xp': 7899,\n",
       " 'x': 80,\n",
       " 'y': 82,\n",
       " 'hero_inventory': [{'id': 'item_arcane_boots', 'cooldown': 38.51},\n",
       "  {'id': 'item_glimmer_cape', 'cooldown': 0},\n",
       "  {'id': 'item_magic_wand', 'cooldown': 0},\n",
       "  {'id': 'item_tpscroll', 'num_charges': 1, 'cooldown': 0}],\n",
       " 'hero_stash': [],\n",
       " 'health': 0,\n",
       " 'max_health': 1040,\n",
       " 'max_mana': 1008.938,\n",
       " 'level': 13,\n",
       " 'kills': 3,\n",
       " 'deaths': 4,\n",
       " 'assists': 3,\n",
       " 'denies': 1,\n",
       " 'nearby_creep_death_count': 236}"
      ]
     },
     "execution_count": 184,
     "metadata": {},
     "output_type": "execute_result"
    }
   ],
   "source": [
    "match['players'][1]"
   ]
  },
  {
   "cell_type": "markdown",
   "id": "9407d3ed",
   "metadata": {},
   "source": [
    "Посмотрев на несколько объектов в json файле, я обнаружил, что по-видимому самым информативным признаком является `players` его и нужно посмотреть более детально. Я предполагаю, что если добавить информацию о количестве суммарное KDA для каждой команды, а также количестве подобранных рун, то мы можем улучшить наш скор, давайте попробуем все это! Стоит добавить также количество разрущенных башен, в бейслайне этот признак хорошо показал себя."
   ]
  },
  {
   "cell_type": "markdown",
   "id": "0ef971f2",
   "metadata": {},
   "source": [
    "### Создадим функцию, которая читает json файл"
   ]
  },
  {
   "cell_type": "code",
   "execution_count": 185,
   "id": "67f2da26",
   "metadata": {},
   "outputs": [],
   "source": [
    "import ujson as json\n",
    "from tqdm.notebook import tqdm\n",
    "def read_matches(matches_file, total_matches=31698, n_matches_to_read=None):\n",
    "    \"\"\"\n",
    "    Аргуент\n",
    "    -------\n",
    "    matches_file: JSON файл с сырыми данными\n",
    "    \n",
    "    Результат\n",
    "    ---------\n",
    "    Возвращает записи о каждом матче\n",
    "    \"\"\"\n",
    "    \n",
    "    if n_matches_to_read is None:\n",
    "        n_matches_to_read = total_matches\n",
    "        \n",
    "    c = 0\n",
    "    with open(matches_file) as fin:\n",
    "        for line in tqdm(fin, total=total_matches):\n",
    "            if c >= n_matches_to_read:\n",
    "                break\n",
    "            else:\n",
    "                c += 1\n",
    "                yield json.loads(line)"
   ]
  },
  {
   "cell_type": "markdown",
   "id": "586f42b2",
   "metadata": {},
   "source": [
    "Теперь попробуем добавить фичи, о которых я говорил ранее"
   ]
  },
  {
   "cell_type": "code",
   "execution_count": 186,
   "id": "7fd75e8e",
   "metadata": {},
   "outputs": [],
   "source": [
    "def add_new_features(df_features, matches_file):\n",
    "    \"\"\"\n",
    "    Аргуенты\n",
    "    -------\n",
    "    df_features: таблица с данными\n",
    "    matches_file: JSON файл с сырыми данными\n",
    "    \n",
    "    Результат\n",
    "    ---------\n",
    "    Добавляет новые признаки в таблицу\n",
    "    \"\"\"\n",
    "    \n",
    "    for match in read_matches(matches_file):\n",
    "        match_id_hash = match['match_id_hash']\n",
    "\n",
    "        # Посчитаем поднятые, кол-во убитых башен, а также KDA для каждой команды \n",
    "        rune_r = 0\n",
    "        rune_d = 0\n",
    "        KDA_r = 0\n",
    "        KDA_d = 0\n",
    "        towers_r = 0 \n",
    "        towers_d = 0\n",
    "        for player in match[\"players\"]:\n",
    "            if player[\"player_slot\"] in list(range(0,5)):\n",
    "                rune_r += player['rune_pickups']\n",
    "                towers_r += player['towers_killed']\n",
    "                try:\n",
    "                    KDA_r += (player['kills'] + player['assists']) / player['deaths'] \n",
    "                except ZeroDivisionError:\n",
    "                    KDA_r += player['kills'] + player['assists']\n",
    "            elif player[\"player_slot\"] in list(range(128,133)):\n",
    "                rune_d += player['rune_pickups']\n",
    "                towers_d += player['towers_killed']\n",
    "                try:\n",
    "                    KDA_d += (player['kills'] + player['assists']) / player['deaths'] \n",
    "                except ZeroDivisionError:\n",
    "                    KDA_d += player['kills'] + player['assists']   \n",
    "\n",
    "        df_features.loc[match_id_hash, \"diff_rune_taken\"] = rune_r - rune_d      \n",
    "        df_features.loc[match_id_hash, \"diff_in_KDA\"] = KDA_r - KDA_d\n",
    "        df_features.loc[match_id_hash, \"diff_in_towers\"] = towers_r - towers_d\n",
    "        "
   ]
  },
  {
   "cell_type": "code",
   "execution_count": 201,
   "id": "9a766627",
   "metadata": {
    "scrolled": true
   },
   "outputs": [
    {
     "data": {
      "application/vnd.jupyter.widget-view+json": {
       "model_id": "5f30cf4f46ea4b499adac5a7d2545c11",
       "version_major": 2,
       "version_minor": 0
      },
      "text/plain": [
       "  0%|          | 0/31698 [00:00<?, ?it/s]"
      ]
     },
     "metadata": {},
     "output_type": "display_data"
    }
   ],
   "source": [
    "# Скопируем таблицу с признаками\n",
    "df_train_features_extended = df_train_features_dropd.copy()\n",
    "\n",
    "# Добавим новые\n",
    "add_new_features(df_train_features_extended, \n",
    "                 os.path.join(PATH_TO_DATA, \n",
    "                              \"train_raw_data.jsonl\"))"
   ]
  },
  {
   "cell_type": "code",
   "execution_count": 202,
   "id": "f90062de",
   "metadata": {},
   "outputs": [
    {
     "data": {
      "text/html": [
       "<div>\n",
       "<style scoped>\n",
       "    .dataframe tbody tr th:only-of-type {\n",
       "        vertical-align: middle;\n",
       "    }\n",
       "\n",
       "    .dataframe tbody tr th {\n",
       "        vertical-align: top;\n",
       "    }\n",
       "\n",
       "    .dataframe thead th {\n",
       "        text-align: right;\n",
       "    }\n",
       "</style>\n",
       "<table border=\"1\" class=\"dataframe\">\n",
       "  <thead>\n",
       "    <tr style=\"text-align: right;\">\n",
       "      <th></th>\n",
       "      <th>objectives_len</th>\n",
       "      <th>chat_len</th>\n",
       "      <th>r1_denies</th>\n",
       "      <th>r1_gold</th>\n",
       "      <th>r1_lh</th>\n",
       "      <th>r1_xp</th>\n",
       "      <th>r1_health</th>\n",
       "      <th>r1_max_health</th>\n",
       "      <th>r1_max_mana</th>\n",
       "      <th>r1_level</th>\n",
       "      <th>...</th>\n",
       "      <th>d5_stuns</th>\n",
       "      <th>d5_creeps_stacked</th>\n",
       "      <th>d5_camps_stacked</th>\n",
       "      <th>d5_rune_pickups</th>\n",
       "      <th>d5_firstblood_claimed</th>\n",
       "      <th>d5_teamfight_participation</th>\n",
       "      <th>d5_roshans_killed</th>\n",
       "      <th>diff_rune_taken</th>\n",
       "      <th>diff_in_KDA</th>\n",
       "      <th>diff_in_towers</th>\n",
       "    </tr>\n",
       "    <tr>\n",
       "      <th>match_id_hash</th>\n",
       "      <th></th>\n",
       "      <th></th>\n",
       "      <th></th>\n",
       "      <th></th>\n",
       "      <th></th>\n",
       "      <th></th>\n",
       "      <th></th>\n",
       "      <th></th>\n",
       "      <th></th>\n",
       "      <th></th>\n",
       "      <th></th>\n",
       "      <th></th>\n",
       "      <th></th>\n",
       "      <th></th>\n",
       "      <th></th>\n",
       "      <th></th>\n",
       "      <th></th>\n",
       "      <th></th>\n",
       "      <th></th>\n",
       "      <th></th>\n",
       "      <th></th>\n",
       "    </tr>\n",
       "  </thead>\n",
       "  <tbody>\n",
       "    <tr>\n",
       "      <th>b9c57c450ce74a2af79c9ce96fac144d</th>\n",
       "      <td>3</td>\n",
       "      <td>10</td>\n",
       "      <td>7</td>\n",
       "      <td>5257</td>\n",
       "      <td>52</td>\n",
       "      <td>3937</td>\n",
       "      <td>1160</td>\n",
       "      <td>1160</td>\n",
       "      <td>566.93805</td>\n",
       "      <td>8</td>\n",
       "      <td>...</td>\n",
       "      <td>0.000000</td>\n",
       "      <td>0</td>\n",
       "      <td>0</td>\n",
       "      <td>0</td>\n",
       "      <td>0</td>\n",
       "      <td>0.00</td>\n",
       "      <td>0</td>\n",
       "      <td>-1.0</td>\n",
       "      <td>24.5</td>\n",
       "      <td>1.0</td>\n",
       "    </tr>\n",
       "    <tr>\n",
       "      <th>6db558535151ea18ca70a6892197db41</th>\n",
       "      <td>0</td>\n",
       "      <td>0</td>\n",
       "      <td>0</td>\n",
       "      <td>176</td>\n",
       "      <td>0</td>\n",
       "      <td>0</td>\n",
       "      <td>680</td>\n",
       "      <td>680</td>\n",
       "      <td>506.93800</td>\n",
       "      <td>1</td>\n",
       "      <td>...</td>\n",
       "      <td>0.000000</td>\n",
       "      <td>0</td>\n",
       "      <td>0</td>\n",
       "      <td>0</td>\n",
       "      <td>0</td>\n",
       "      <td>0.00</td>\n",
       "      <td>0</td>\n",
       "      <td>2.0</td>\n",
       "      <td>0.0</td>\n",
       "      <td>0.0</td>\n",
       "    </tr>\n",
       "    <tr>\n",
       "      <th>19c39fe2af2b547e48708ca005c6ae74</th>\n",
       "      <td>0</td>\n",
       "      <td>0</td>\n",
       "      <td>1</td>\n",
       "      <td>403</td>\n",
       "      <td>0</td>\n",
       "      <td>359</td>\n",
       "      <td>740</td>\n",
       "      <td>740</td>\n",
       "      <td>290.93777</td>\n",
       "      <td>2</td>\n",
       "      <td>...</td>\n",
       "      <td>0.000000</td>\n",
       "      <td>0</td>\n",
       "      <td>0</td>\n",
       "      <td>0</td>\n",
       "      <td>0</td>\n",
       "      <td>0.00</td>\n",
       "      <td>0</td>\n",
       "      <td>7.0</td>\n",
       "      <td>0.0</td>\n",
       "      <td>0.0</td>\n",
       "    </tr>\n",
       "    <tr>\n",
       "      <th>c96d629dc0c39f0c616d1949938a6ba6</th>\n",
       "      <td>1</td>\n",
       "      <td>0</td>\n",
       "      <td>5</td>\n",
       "      <td>3085</td>\n",
       "      <td>1</td>\n",
       "      <td>2828</td>\n",
       "      <td>495</td>\n",
       "      <td>740</td>\n",
       "      <td>816.93830</td>\n",
       "      <td>6</td>\n",
       "      <td>...</td>\n",
       "      <td>8.264696</td>\n",
       "      <td>0</td>\n",
       "      <td>0</td>\n",
       "      <td>3</td>\n",
       "      <td>0</td>\n",
       "      <td>0.25</td>\n",
       "      <td>0</td>\n",
       "      <td>20.0</td>\n",
       "      <td>-2.9</td>\n",
       "      <td>0.0</td>\n",
       "    </tr>\n",
       "    <tr>\n",
       "      <th>156c88bff4e9c4668b0f53df3d870f1b</th>\n",
       "      <td>2</td>\n",
       "      <td>2</td>\n",
       "      <td>9</td>\n",
       "      <td>3516</td>\n",
       "      <td>40</td>\n",
       "      <td>3964</td>\n",
       "      <td>495</td>\n",
       "      <td>960</td>\n",
       "      <td>530.93800</td>\n",
       "      <td>8</td>\n",
       "      <td>...</td>\n",
       "      <td>15.762911</td>\n",
       "      <td>3</td>\n",
       "      <td>1</td>\n",
       "      <td>0</td>\n",
       "      <td>1</td>\n",
       "      <td>0.50</td>\n",
       "      <td>0</td>\n",
       "      <td>-3.0</td>\n",
       "      <td>-6.0</td>\n",
       "      <td>-1.0</td>\n",
       "    </tr>\n",
       "  </tbody>\n",
       "</table>\n",
       "<p>5 rows × 155 columns</p>\n",
       "</div>"
      ],
      "text/plain": [
       "                                  objectives_len  chat_len  r1_denies  \\\n",
       "match_id_hash                                                           \n",
       "b9c57c450ce74a2af79c9ce96fac144d               3        10          7   \n",
       "6db558535151ea18ca70a6892197db41               0         0          0   \n",
       "19c39fe2af2b547e48708ca005c6ae74               0         0          1   \n",
       "c96d629dc0c39f0c616d1949938a6ba6               1         0          5   \n",
       "156c88bff4e9c4668b0f53df3d870f1b               2         2          9   \n",
       "\n",
       "                                  r1_gold  r1_lh  r1_xp  r1_health  \\\n",
       "match_id_hash                                                        \n",
       "b9c57c450ce74a2af79c9ce96fac144d     5257     52   3937       1160   \n",
       "6db558535151ea18ca70a6892197db41      176      0      0        680   \n",
       "19c39fe2af2b547e48708ca005c6ae74      403      0    359        740   \n",
       "c96d629dc0c39f0c616d1949938a6ba6     3085      1   2828        495   \n",
       "156c88bff4e9c4668b0f53df3d870f1b     3516     40   3964        495   \n",
       "\n",
       "                                  r1_max_health  r1_max_mana  r1_level  ...  \\\n",
       "match_id_hash                                                           ...   \n",
       "b9c57c450ce74a2af79c9ce96fac144d           1160    566.93805         8  ...   \n",
       "6db558535151ea18ca70a6892197db41            680    506.93800         1  ...   \n",
       "19c39fe2af2b547e48708ca005c6ae74            740    290.93777         2  ...   \n",
       "c96d629dc0c39f0c616d1949938a6ba6            740    816.93830         6  ...   \n",
       "156c88bff4e9c4668b0f53df3d870f1b            960    530.93800         8  ...   \n",
       "\n",
       "                                   d5_stuns  d5_creeps_stacked  \\\n",
       "match_id_hash                                                    \n",
       "b9c57c450ce74a2af79c9ce96fac144d   0.000000                  0   \n",
       "6db558535151ea18ca70a6892197db41   0.000000                  0   \n",
       "19c39fe2af2b547e48708ca005c6ae74   0.000000                  0   \n",
       "c96d629dc0c39f0c616d1949938a6ba6   8.264696                  0   \n",
       "156c88bff4e9c4668b0f53df3d870f1b  15.762911                  3   \n",
       "\n",
       "                                  d5_camps_stacked  d5_rune_pickups  \\\n",
       "match_id_hash                                                         \n",
       "b9c57c450ce74a2af79c9ce96fac144d                 0                0   \n",
       "6db558535151ea18ca70a6892197db41                 0                0   \n",
       "19c39fe2af2b547e48708ca005c6ae74                 0                0   \n",
       "c96d629dc0c39f0c616d1949938a6ba6                 0                3   \n",
       "156c88bff4e9c4668b0f53df3d870f1b                 1                0   \n",
       "\n",
       "                                  d5_firstblood_claimed  \\\n",
       "match_id_hash                                             \n",
       "b9c57c450ce74a2af79c9ce96fac144d                      0   \n",
       "6db558535151ea18ca70a6892197db41                      0   \n",
       "19c39fe2af2b547e48708ca005c6ae74                      0   \n",
       "c96d629dc0c39f0c616d1949938a6ba6                      0   \n",
       "156c88bff4e9c4668b0f53df3d870f1b                      1   \n",
       "\n",
       "                                  d5_teamfight_participation  \\\n",
       "match_id_hash                                                  \n",
       "b9c57c450ce74a2af79c9ce96fac144d                        0.00   \n",
       "6db558535151ea18ca70a6892197db41                        0.00   \n",
       "19c39fe2af2b547e48708ca005c6ae74                        0.00   \n",
       "c96d629dc0c39f0c616d1949938a6ba6                        0.25   \n",
       "156c88bff4e9c4668b0f53df3d870f1b                        0.50   \n",
       "\n",
       "                                  d5_roshans_killed  diff_rune_taken  \\\n",
       "match_id_hash                                                          \n",
       "b9c57c450ce74a2af79c9ce96fac144d                  0             -1.0   \n",
       "6db558535151ea18ca70a6892197db41                  0              2.0   \n",
       "19c39fe2af2b547e48708ca005c6ae74                  0              7.0   \n",
       "c96d629dc0c39f0c616d1949938a6ba6                  0             20.0   \n",
       "156c88bff4e9c4668b0f53df3d870f1b                  0             -3.0   \n",
       "\n",
       "                                  diff_in_KDA  diff_in_towers  \n",
       "match_id_hash                                                  \n",
       "b9c57c450ce74a2af79c9ce96fac144d         24.5             1.0  \n",
       "6db558535151ea18ca70a6892197db41          0.0             0.0  \n",
       "19c39fe2af2b547e48708ca005c6ae74          0.0             0.0  \n",
       "c96d629dc0c39f0c616d1949938a6ba6         -2.9             0.0  \n",
       "156c88bff4e9c4668b0f53df3d870f1b         -6.0            -1.0  \n",
       "\n",
       "[5 rows x 155 columns]"
      ]
     },
     "execution_count": 202,
     "metadata": {},
     "output_type": "execute_result"
    }
   ],
   "source": [
    "df_train_features_extended.head()"
   ]
  },
  {
   "cell_type": "code",
   "execution_count": 203,
   "id": "155f9704",
   "metadata": {},
   "outputs": [
    {
     "name": "stdout",
     "output_type": "stream",
     "text": [
      "CPU times: user 27 ms, sys: 87.3 ms, total: 114 ms\n",
      "Wall time: 1min 6s\n"
     ]
    }
   ],
   "source": [
    "%%time\n",
    "cv_scores_base = cross_val_score(rf_model, X, y, cv=cv, scoring=\"roc_auc\", n_jobs=-1)\n",
    "cv_scores_extended = cross_val_score(rf_model, df_train_features_extended.values, y, \n",
    "                                     cv=cv, scoring=\"roc_auc\", n_jobs=-1)"
   ]
  },
  {
   "cell_type": "code",
   "execution_count": 204,
   "id": "997fdf7d",
   "metadata": {
    "scrolled": true
   },
   "outputs": [
    {
     "name": "stdout",
     "output_type": "stream",
     "text": [
      "ROC-AUC на кросс-валидации для базовых признаков: 0.7796393650340999\n",
      "ROC-AUC на кросс-валидации для новых признаков: 0.7873243668190365\n"
     ]
    }
   ],
   "source": [
    "print(f\"ROC-AUC на кросс-валидации для базовых признаков: {cv_scores_base.mean()}\")\n",
    "print(f\"ROC-AUC на кросс-валидации для новых признаков: {cv_scores_extended.mean()}\")"
   ]
  },
  {
   "cell_type": "markdown",
   "id": "5016c729",
   "metadata": {},
   "source": [
    "### Пробуем другие модели"
   ]
  },
  {
   "cell_type": "code",
   "execution_count": 221,
   "id": "331ecb62",
   "metadata": {},
   "outputs": [],
   "source": [
    "X = df_train_features_extended.values\n",
    "X_train_final, X_valid_final, y_train_final, y_valid_final = train_test_split(X, y, \n",
    "                                                      test_size=0.3, \n",
    "                                                      random_state=42)"
   ]
  },
  {
   "cell_type": "code",
   "execution_count": 237,
   "id": "04cf934c",
   "metadata": {},
   "outputs": [
    {
     "name": "stdout",
     "output_type": "stream",
     "text": [
      "0.8075426522982592\n"
     ]
    }
   ],
   "source": [
    "lg_final = LogisticRegression(solver=\"liblinear\", max_iter=100000, C=0.1, \n",
    "                            penalty = 'l1').fit(X_train_final, y_train_final)\n",
    "y_pred_lg_final = lg_final.predict_proba(X_valid_final)[:,1]\n",
    "print(roc_auc_score(y_valid_final, y_pred_lg_final))\n"
   ]
  },
  {
   "cell_type": "markdown",
   "id": "e37382a7",
   "metadata": {},
   "source": [
    "## Лучший скор сверху!!"
   ]
  },
  {
   "cell_type": "code",
   "execution_count": 223,
   "id": "a1940c77",
   "metadata": {},
   "outputs": [
    {
     "name": "stdout",
     "output_type": "stream",
     "text": [
      "0.7907058039150948\n"
     ]
    }
   ],
   "source": [
    "lgb_final = lightgbm.LGBMClassifier(n_estimators=2000, \n",
    "                     learning_rate=0.1,\n",
    "                     max_depth=-1,\n",
    "                     num_leaves=2**6,                     \n",
    "                     random_state=42,\n",
    "                     min_child_weight=7,\n",
    "                     n_jobs=-1).fit(X_train_final, y_train_final)\n",
    "\n",
    "y_pred_lgb_final = lgb_final.predict_proba(X_valid_final)[:,1]\n",
    "print(roc_auc_score(y_valid_final, y_pred_lgb_final))"
   ]
  },
  {
   "cell_type": "code",
   "execution_count": 224,
   "id": "35bcbe3f",
   "metadata": {},
   "outputs": [
    {
     "name": "stdout",
     "output_type": "stream",
     "text": [
      "CPU times: user 35.5 ms, sys: 97.5 ms, total: 133 ms\n",
      "Wall time: 54.7 s\n"
     ]
    }
   ],
   "source": [
    "%%time\n",
    "cv_scores_base = cross_val_score(lgb_final, X, y, cv=cv, scoring=\"roc_auc\", n_jobs=-1)\n",
    "cv_scores_extended = cross_val_score(rf_model, df_train_features_extended.values, y, \n",
    "                                     cv=cv, scoring=\"roc_auc\", n_jobs=-1)"
   ]
  },
  {
   "cell_type": "code",
   "execution_count": 225,
   "id": "fcf5a715",
   "metadata": {},
   "outputs": [
    {
     "name": "stdout",
     "output_type": "stream",
     "text": [
      "ROC-AUC на кросс-валидации для базовых признаков: 0.7936239515965815\n",
      "ROC-AUC на кросс-валидации для новых признаков: 0.7873243668190365\n"
     ]
    }
   ],
   "source": [
    "print(f\"ROC-AUC на кросс-валидации для базовых признаков: {cv_scores_base.mean()}\")\n",
    "print(f\"ROC-AUC на кросс-валидации для новых признаков: {cv_scores_extended.mean()}\")"
   ]
  },
  {
   "cell_type": "markdown",
   "id": "e2bc3a0a",
   "metadata": {},
   "source": [
    "Кросс-валидация для LigthGBM не работает"
   ]
  },
  {
   "cell_type": "markdown",
   "id": "751ffd55",
   "metadata": {},
   "source": [
    "### Теперь опять попробуем LogisticRegression и LigthGBM, дропаем данные с помощью quasi-constant features"
   ]
  },
  {
   "cell_type": "code",
   "execution_count": 227,
   "id": "62391f74",
   "metadata": {},
   "outputs": [
    {
     "data": {
      "text/plain": [
       "VarianceThreshold(threshold=0.1)"
      ]
     },
     "execution_count": 227,
     "metadata": {},
     "output_type": "execute_result"
    }
   ],
   "source": [
    "sel = VarianceThreshold(threshold=0.1)\n",
    "sel.fit(X_train_final)"
   ]
  },
  {
   "cell_type": "code",
   "execution_count": 231,
   "id": "9b9e9997",
   "metadata": {},
   "outputs": [],
   "source": [
    "X_train_new_final = sel.transform(X_train_final)\n",
    "X_valid_new_final = sel.transform(X_valid_final)"
   ]
  },
  {
   "cell_type": "code",
   "execution_count": 235,
   "id": "dec81c27",
   "metadata": {},
   "outputs": [
    {
     "name": "stdout",
     "output_type": "stream",
     "text": [
      "0.7915883599319391\n"
     ]
    }
   ],
   "source": [
    "lgb_new_final = lightgbm.LGBMClassifier(n_estimators=2000, \n",
    "                     learning_rate=0.1,\n",
    "                     max_depth=-1,\n",
    "                     num_leaves=2**6,                     \n",
    "                     random_state=42,\n",
    "                     min_child_weight=7,\n",
    "                     n_jobs=-1).fit(X_train_new_final, y_train_final)\n",
    "\n",
    "y_pred_lgb_new_final = lgb_final.predict_proba(X_valid_new_final)[:,1]\n",
    "print(roc_auc_score(y_valid_final, y_pred_lgb_new_final))"
   ]
  },
  {
   "cell_type": "code",
   "execution_count": 236,
   "id": "48b9c847",
   "metadata": {},
   "outputs": [
    {
     "name": "stdout",
     "output_type": "stream",
     "text": [
      "0.8072863877890029\n"
     ]
    }
   ],
   "source": [
    "lg_new_final = LogisticRegression(solver=\"liblinear\", max_iter=100000, C=0.1, \n",
    "                            penalty = 'l1').fit(X_train_new_final, y_train_final)\n",
    "y_pred_lg_new_final = lg_new_final.predict_proba(X_valid_new_final)[:,1]\n",
    "print(roc_auc_score(y_valid_final, y_pred_lg_new_final))"
   ]
  },
  {
   "cell_type": "markdown",
   "id": "6a494cc1",
   "metadata": {},
   "source": [
    "Если дропаем данные с помощью quasi-constant features, наши две модели становятся хуже"
   ]
  },
  {
   "cell_type": "markdown",
   "id": "5ba2424c",
   "metadata": {},
   "source": [
    "### Submit"
   ]
  },
  {
   "cell_type": "code",
   "execution_count": 243,
   "id": "90d3074b",
   "metadata": {},
   "outputs": [],
   "source": [
    "def read_matches_test(matches_file, total_matches=7977, n_matches_to_read=None):\n",
    "    \"\"\"\n",
    "    Аргуент\n",
    "    -------\n",
    "    matches_file: JSON файл с сырыми данными\n",
    "    \n",
    "    Результат\n",
    "    ---------\n",
    "    Возвращает записи о каждом матче\n",
    "    \"\"\"\n",
    "    \n",
    "    if n_matches_to_read is None:\n",
    "        n_matches_to_read = total_matches\n",
    "        \n",
    "    c = 0\n",
    "    with open(matches_file) as fin:\n",
    "        for line in tqdm(fin, total=total_matches):\n",
    "            if c >= n_matches_to_read:\n",
    "                break\n",
    "            else:\n",
    "                c += 1\n",
    "                yield json.loads(line)"
   ]
  },
  {
   "cell_type": "code",
   "execution_count": 244,
   "id": "2a4cfbed",
   "metadata": {},
   "outputs": [],
   "source": [
    "def add_new_features_test(df_features, matches_file):\n",
    "    \"\"\"\n",
    "    Аргуенты\n",
    "    -------\n",
    "    df_features: таблица с данными\n",
    "    matches_file: JSON файл с сырыми данными\n",
    "    \n",
    "    Результат\n",
    "    ---------\n",
    "    Добавляет новые признаки в таблицу\n",
    "    \"\"\"\n",
    "    \n",
    "    for match in read_matches_test(matches_file):\n",
    "        match_id_hash = match['match_id_hash']\n",
    "\n",
    "        # Посчитаем поднятые, кол-во убитых башен, а также KDA для каждой команды \n",
    "        rune_r = 0\n",
    "        rune_d = 0\n",
    "        KDA_r = 0\n",
    "        KDA_d = 0\n",
    "        towers_r = 0 \n",
    "        towers_d = 0\n",
    "        for player in match[\"players\"]:\n",
    "            if player[\"player_slot\"] in list(range(0,5)):\n",
    "                rune_r += player['rune_pickups']\n",
    "                towers_r += player['towers_killed']\n",
    "                try:\n",
    "                    KDA_r += (player['kills'] + player['assists']) / player['deaths'] \n",
    "                except ZeroDivisionError:\n",
    "                    KDA_r += player['kills'] + player['assists']\n",
    "            elif player[\"player_slot\"] in list(range(128,133)):\n",
    "                rune_d += player['rune_pickups']\n",
    "                towers_d += player['towers_killed']\n",
    "                try:\n",
    "                    KDA_d += (player['kills'] + player['assists']) / player['deaths'] \n",
    "                except ZeroDivisionError:\n",
    "                    KDA_d += player['kills'] + player['assists']   \n",
    "\n",
    "        df_features.loc[match_id_hash, \"diff_rune_taken\"] = rune_r - rune_d      \n",
    "        df_features.loc[match_id_hash, \"diff_in_KDA\"] = KDA_r - KDA_d\n",
    "        df_features.loc[match_id_hash, \"diff_in_towers\"] = towers_r - towers_d\n",
    "        "
   ]
  },
  {
   "cell_type": "code",
   "execution_count": 260,
   "id": "3daa8668",
   "metadata": {},
   "outputs": [
    {
     "data": {
      "application/vnd.jupyter.widget-view+json": {
       "model_id": "4808c8892b734d179c82ab938249d467",
       "version_major": 2,
       "version_minor": 0
      },
      "text/plain": [
       "  0%|          | 0/7977 [00:00<?, ?it/s]"
      ]
     },
     "metadata": {},
     "output_type": "display_data"
    }
   ],
   "source": [
    "df_test_features = pd.read_csv(os.path.join(PATH_TO_DATA, \"test_data.csv\"), \n",
    "                                   index_col=\"match_id_hash\")\n",
    "\n",
    "\n",
    "df_test_features_extended = df_test_features.drop(need_to_delete, axis=1)\n",
    "\n",
    "add_new_features_test(df_test_features_extended,\n",
    "                              \"data/test_raw_data.jsonl\")\n",
    "\n",
    "X_test = df_test_features_extended.values\n",
    "X_test_new = sel.transform(X_test)\n",
    "y_test_pred = lg_new_final.predict_proba(X_test_new)[:, 1]\n",
    "\n",
    "\n",
    "\n",
    "df_submission = pd.DataFrame({\"radiant_win_prob\": y_test_pred}, \n",
    "                                 index=df_test_features.index)"
   ]
  },
  {
   "cell_type": "code",
   "execution_count": 261,
   "id": "380bf41e",
   "metadata": {},
   "outputs": [
    {
     "name": "stdout",
     "output_type": "stream",
     "text": [
      "Файл посылки сохранен, как: submission_2022-04-03_22-19-51.csv\n"
     ]
    }
   ],
   "source": [
    "submission_filename = \"submission_{}.csv\".format(\n",
    "    datetime.datetime.now().strftime(\"%Y-%m-%d_%H-%M-%S\"))\n",
    "df_submission.to_csv(submission_filename)\n",
    "print(\"Файл посылки сохранен, как: {}\".format(submission_filename))"
   ]
  },
  {
   "cell_type": "markdown",
   "id": "97d47ee6",
   "metadata": {},
   "source": [
    "В результате преобразований были протестированы и откинуты следующие признаки: \n",
    "* Количество убитых рошанов\n",
    "* Время, в котором команда держала в стане команду\n",
    "* Количество времени, потраченного на файты\n",
    "* Количество поставленных вардов\n",
    "\n",
    "Все эти признаки не дали должного результата, по итогу добавилось только KDA, количество разрущенных башен, количество подобранных рун"
   ]
  },
  {
   "cell_type": "code",
   "execution_count": null,
   "id": "60c8fa9f",
   "metadata": {},
   "outputs": [],
   "source": []
  }
 ],
 "metadata": {
  "kernelspec": {
   "display_name": "Python 3 (ipykernel)",
   "language": "python",
   "name": "python3"
  },
  "language_info": {
   "codemirror_mode": {
    "name": "ipython",
    "version": 3
   },
   "file_extension": ".py",
   "mimetype": "text/x-python",
   "name": "python",
   "nbconvert_exporter": "python",
   "pygments_lexer": "ipython3",
   "version": "3.10.2"
  }
 },
 "nbformat": 4,
 "nbformat_minor": 5
}
